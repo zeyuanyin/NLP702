{
  "cells": [
    {
      "cell_type": "markdown",
      "metadata": {
        "id": "view-in-github",
        "colab_type": "text"
      },
      "source": [
        "<a href=\"https://colab.research.google.com/github/zeyuanyin/NLP702/blob/main/tutorial/text_classification_attention/rnn_attention_tutorial.ipynb\" target=\"_parent\"><img src=\"https://colab.research.google.com/assets/colab-badge.svg\" alt=\"Open In Colab\"/></a>"
      ]
    },
    {
      "cell_type": "markdown",
      "metadata": {
        "id": "Sjc62uvdZRW5"
      },
      "source": [
        "## Recurrent Neural Networks with Attention\n",
        "\n",
        "### Goal of this tutorial\n",
        "- Introduce Recurrent Neural Networks (RNNs)\n",
        "- Implement RNN for sentiment analysis\n",
        "- Combine RNN and Self-attention\n",
        "- Implement Long-Short Term Memories (LSTMs) for sentiment analysis\n",
        "- Implement Gated Recurrent Units (GRUs) for sentiment analysis\n",
        "\n",
        "### General\n",
        "- This notebook was last tested on Python 3.7, PyTorch 1.8.0, torchtext 0.5.0\n",
        "\n",
        "We would like to acknowledge the following materials which helped as a reference in preparing this tutorial:\n",
        "- https://github.com/UBC-NLP/dlnlp2019/blob/master/slides/RNN.pdf"
      ]
    },
    {
      "cell_type": "code",
      "source": [
        "from google.colab import drive\n",
        "drive.mount('/content/drive')\n",
        "%cd /content/drive/MyDrive/course/nlp702\n",
        "!pip install torchtext==0.5.0"
      ],
      "metadata": {
        "colab": {
          "base_uri": "https://localhost:8080/"
        },
        "id": "mwtMYfQhZSXF",
        "outputId": "52ae3133-3e0f-47d6-972d-edb2eaa80cb8"
      },
      "execution_count": 13,
      "outputs": [
        {
          "output_type": "stream",
          "name": "stdout",
          "text": [
            "Mounted at /content/drive\n",
            "/content/drive/MyDrive/course/nlp702\n",
            "Looking in indexes: https://pypi.org/simple, https://us-python.pkg.dev/colab-wheels/public/simple/\n",
            "Requirement already satisfied: torchtext==0.5.0 in /usr/local/lib/python3.8/dist-packages (0.5.0)\n",
            "Requirement already satisfied: six in /usr/local/lib/python3.8/dist-packages (from torchtext==0.5.0) (1.15.0)\n",
            "Requirement already satisfied: torch in /usr/local/lib/python3.8/dist-packages (from torchtext==0.5.0) (1.13.1+cu116)\n",
            "Requirement already satisfied: numpy in /usr/local/lib/python3.8/dist-packages (from torchtext==0.5.0) (1.21.6)\n",
            "Requirement already satisfied: tqdm in /usr/local/lib/python3.8/dist-packages (from torchtext==0.5.0) (4.64.1)\n",
            "Requirement already satisfied: sentencepiece in /usr/local/lib/python3.8/dist-packages (from torchtext==0.5.0) (0.1.97)\n",
            "Requirement already satisfied: requests in /usr/local/lib/python3.8/dist-packages (from torchtext==0.5.0) (2.25.1)\n",
            "Requirement already satisfied: urllib3<1.27,>=1.21.1 in /usr/local/lib/python3.8/dist-packages (from requests->torchtext==0.5.0) (1.24.3)\n",
            "Requirement already satisfied: chardet<5,>=3.0.2 in /usr/local/lib/python3.8/dist-packages (from requests->torchtext==0.5.0) (4.0.0)\n",
            "Requirement already satisfied: certifi>=2017.4.17 in /usr/local/lib/python3.8/dist-packages (from requests->torchtext==0.5.0) (2022.12.7)\n",
            "Requirement already satisfied: idna<3,>=2.5 in /usr/local/lib/python3.8/dist-packages (from requests->torchtext==0.5.0) (2.10)\n",
            "Requirement already satisfied: typing-extensions in /usr/local/lib/python3.8/dist-packages (from torch->torchtext==0.5.0) (4.4.0)\n"
          ]
        }
      ]
    },
    {
      "cell_type": "code",
      "execution_count": 2,
      "metadata": {
        "id": "x2QGiWw2ZRW8"
      },
      "outputs": [],
      "source": [
        "import pandas as pd\n",
        "import torchtext\n",
        "from torchtext.data import Field, LabelField\n",
        "from torchtext.data import TabularDataset\n",
        "import torch\n",
        "import torch.nn as nn\n",
        "import math\n",
        "import torch.nn.functional as F"
      ]
    },
    {
      "cell_type": "markdown",
      "metadata": {
        "id": "dwiZgJ4cZRW-"
      },
      "source": [
        "### Embedding Layer"
      ]
    },
    {
      "cell_type": "markdown",
      "metadata": {
        "id": "JROQlgxjZRW-"
      },
      "source": [
        "The ``Embedding`` layer in Pytorch is where we pass our vocabulary to get get back a word vector for each word in the vocabulary. We need to know what the input and output of this layer look like. Let's first\n",
        "do this on a dummy example where we have two sentences ``x_1`` and ``x_2``. Let's assume we have the two sentences as:"
      ]
    },
    {
      "cell_type": "code",
      "execution_count": 3,
      "metadata": {
        "id": "XYy82AWCZRW-"
      },
      "outputs": [],
      "source": [
        "x_1 = \"He is very nice\"\n",
        "x_2 = \"She is very kind\""
      ]
    },
    {
      "cell_type": "markdown",
      "metadata": {
        "id": "ThlqAsL2ZRW_"
      },
      "source": [
        "Let's convert the two sentences into indexes (each word is replaced with its index in the vocabulary).\n",
        "Let's assume our ``vocabulary size`` is set to 100. Remember, vocabulary size is a hyper-parameter.\n",
        "Let's also store that ``vocabulary size`` in a variable ``VOCAB_SIZE`` now as we will need to pass it to the ``Embedding`` layer later."
      ]
    },
    {
      "cell_type": "code",
      "execution_count": 4,
      "metadata": {
        "id": "6a_smj1TZRW_"
      },
      "outputs": [],
      "source": [
        "x_1 = [1, 25, 40, 5]\n",
        "x_2 = [4, 25, 40, 99]\n",
        "VOCAB_SIZE = 100"
      ]
    },
    {
      "cell_type": "markdown",
      "metadata": {
        "id": "bXIDL91qZRW_"
      },
      "source": [
        "### Max sequence length"
      ]
    },
    {
      "cell_type": "markdown",
      "metadata": {
        "id": "PzYR1EKTZRXA"
      },
      "source": [
        "One last thing we need to think about is the ``length of each sequence``. The two examples above are nicely set to equal length = 4. This does not need to be the case, as we can have sequences of varying lengths. We will be passing a batch of sentences to Pytorch and the max sequence length will be set to the length of the longest sentence in that batch. The rest of sentences (shorter ones) will be padded with zeros. Now, do we need to explicitly provide the max sequence length to Pytorch? And how do we know the max seq length for each batch, if different batches have sequences of varying lengths and each batch is set to the max sent in that batch? Well, rest assured, we don't really need to worry about that. Pytorch will assign a max seq length for each batch. We will be able to inspect the max seq length for a given batch using output of the ``Embedding`` layer. (We will see that soon)."
      ]
    },
    {
      "cell_type": "markdown",
      "metadata": {
        "id": "j_HtL7OeZRXB"
      },
      "source": [
        "## Size of word vector"
      ]
    },
    {
      "cell_type": "markdown",
      "metadata": {
        "id": "Ut67NusuZRXB"
      },
      "source": [
        "The ``Embedding`` layer will give us a vector for each word in the vocabulary.\n",
        "Now, we will need to tell it what size we want for that vector. Popular values for a vector size are usally between 100-300 for many tasks (e.g., sentiment analysis\"). Let's set it to 300 dimensions. (You are encouraged to play with this value as practice). All words in the vocabulary will have the same embedding size. Let's put that hyper-parameter in a variable ``WORD_VEC_SIZE``:"
      ]
    },
    {
      "cell_type": "code",
      "execution_count": 5,
      "metadata": {
        "id": "nW2mkpYQZRXB"
      },
      "outputs": [],
      "source": [
        "WORD_VEC_SIZE= 300"
      ]
    },
    {
      "cell_type": "markdown",
      "metadata": {
        "id": "2MVZfXaOZRXC"
      },
      "source": [
        "We are now ready to call the ``Embedding`` class to construct an embeddings tensor:"
      ]
    },
    {
      "cell_type": "code",
      "execution_count": 6,
      "metadata": {
        "colab": {
          "base_uri": "https://localhost:8080/"
        },
        "id": "g-VwLVlCZRXC",
        "outputId": "e3ece4ed-67ce-4f85-9725-0b019a60ce2a"
      },
      "outputs": [
        {
          "output_type": "stream",
          "name": "stdout",
          "text": [
            "tensor([[[-0.0473, -1.7201, -1.0530,  ..., -1.6113,  0.6682, -0.7543],\n",
            "         [-0.6174,  1.4342, -1.7113,  ...,  0.1957, -0.9740, -0.5939],\n",
            "         [-0.8626,  0.1138, -0.7820,  ..., -1.4221, -0.6571, -1.8813],\n",
            "         [-1.2141,  0.8867, -0.0886,  ..., -0.4370,  0.7159, -0.9371]],\n",
            "\n",
            "        [[-0.8337,  0.1721, -1.0398,  ..., -0.5583, -0.4534, -2.5654],\n",
            "         [-0.6174,  1.4342, -1.7113,  ...,  0.1957, -0.9740, -0.5939],\n",
            "         [-0.8626,  0.1138, -0.7820,  ..., -1.4221, -0.6571, -1.8813],\n",
            "         [ 0.3074, -0.1321, -2.4767,  ...,  0.7688, -0.1164, -0.6220]]],\n",
            "       grad_fn=<EmbeddingBackward0>)\n",
            "torch.Size([2, 4, 300])\n"
          ]
        }
      ],
      "source": [
        "# Constructing an embedding Layer:\n",
        "embedding = nn.Embedding(VOCAB_SIZE, WORD_VEC_SIZE)\n",
        "input = torch.LongTensor([ x_1, x_2 ])\n",
        "embedded=embedding(input)\n",
        "print(embedded)\n",
        "print(embedded.shape) # batch size, sequence lenght, embedding size"
      ]
    },
    {
      "cell_type": "markdown",
      "metadata": {
        "id": "tGQhoWj-ZRXD"
      },
      "source": [
        "**Let's print the shape of this tensor:**"
      ]
    },
    {
      "cell_type": "code",
      "execution_count": 7,
      "metadata": {
        "colab": {
          "base_uri": "https://localhost:8080/"
        },
        "id": "HFS1Q38yZRXD",
        "outputId": "a4f8c67a-fa81-4f9f-e01d-e805b1232338"
      },
      "outputs": [
        {
          "output_type": "stream",
          "name": "stdout",
          "text": [
            "torch.Size([2, 4, 300])\n"
          ]
        }
      ],
      "source": [
        "print(embedded.size())"
      ]
    },
    {
      "cell_type": "markdown",
      "metadata": {
        "id": "Jlj-lTSOZRXD"
      },
      "source": [
        "This is telling us:\n",
        "- We have ``2 examples`` (that is, our ``x_1`` and ``x_2``). (Note: We will be paqssing a whole batch to the ``Embedding`` class and so this first dimension will be equal to the ``batch size``.\n",
        "- For each of the two examples, we have a ``max sequence length`` = 4 (x_1 and x_2 each had 4 indexes).\n",
        "- The ``word vector dimension`` is set to 300."
      ]
    },
    {
      "cell_type": "code",
      "execution_count": null,
      "metadata": {
        "id": "w5pmhDjFZRXD"
      },
      "outputs": [],
      "source": []
    },
    {
      "cell_type": "markdown",
      "metadata": {
        "id": "JmdV-GGjZRXE"
      },
      "source": [
        "### Max sequence length: Another note"
      ]
    },
    {
      "cell_type": "markdown",
      "metadata": {
        "id": "HcB5uUVZZRXE"
      },
      "source": [
        "Recall from above we mentioned Pytorch automatically infers the max sequence length for each batch. \n",
        "For the example above (as you can see from the second dimension returned by ``embedded.size()``, Pytorch \n",
        "inferred the max seq length for this batch of two sentences is 4.\n",
        "Let's just adjust the second example, **adding two more words** (the string \"and kind\"). Note, both our ``VOCAB_SIZE`` and ``WORD_VEC_SIZE`` stay the same as before. We assign the word \"and\" an index of \"7\" and the word \"considerate\" and index of \"60\". Note that we have to pad the first example ``x_1`` with zeros in the end. (Try removing the zero padding. What do you observe when you run your code with the ``Embedding`` class? Hint: You will get an error.):"
      ]
    },
    {
      "cell_type": "code",
      "execution_count": 8,
      "metadata": {
        "id": "O7LNT7gqZRXE"
      },
      "outputs": [],
      "source": [
        "x_1 = \"He is very nice\"\n",
        "x_2 = \"She is very kind and considerate\"\n",
        "x_1 = [1, 25, 40, 5, 0, 0]\n",
        "x_2 = [4, 25, 40, 99, 7, 60]"
      ]
    },
    {
      "cell_type": "markdown",
      "metadata": {
        "id": "SYd0RosRZRXE"
      },
      "source": [
        "Now, let's create a new ``embedding`` layer by creating a new instance of the ``Embedding`` class:"
      ]
    },
    {
      "cell_type": "code",
      "execution_count": 9,
      "metadata": {
        "colab": {
          "base_uri": "https://localhost:8080/"
        },
        "id": "zFI4IeoVZRXE",
        "outputId": "8d5c0971-4430-4906-cac1-ad75b8ee5633"
      },
      "outputs": [
        {
          "output_type": "stream",
          "name": "stdout",
          "text": [
            "tensor([[[ 7.3561e-01,  7.0300e-01,  1.3671e+00,  ...,  1.9209e-01,\n",
            "           6.0257e-01,  5.7987e-01],\n",
            "         [-4.3380e-01, -8.6854e-01,  4.5886e-02,  ...,  1.0800e+00,\n",
            "          -3.2959e-01, -3.0174e-01],\n",
            "         [ 2.2750e+00,  1.0661e+00, -3.9394e-01,  ..., -2.4601e-01,\n",
            "          -1.5952e+00,  3.3553e-02],\n",
            "         [ 1.2953e+00,  1.4372e+00,  2.3082e-01,  ..., -5.9843e-01,\n",
            "           1.6303e+00, -5.4260e-01],\n",
            "         [ 2.3311e-01, -9.3737e-01, -1.3947e+00,  ...,  2.7655e+00,\n",
            "          -9.0550e-02, -1.4447e+00],\n",
            "         [ 2.3311e-01, -9.3737e-01, -1.3947e+00,  ...,  2.7655e+00,\n",
            "          -9.0550e-02, -1.4447e+00]],\n",
            "\n",
            "        [[ 6.8891e-02, -5.2670e-01,  1.3103e+00,  ...,  3.7234e-01,\n",
            "           3.7740e-01,  3.9070e-01],\n",
            "         [-4.3380e-01, -8.6854e-01,  4.5886e-02,  ...,  1.0800e+00,\n",
            "          -3.2959e-01, -3.0174e-01],\n",
            "         [ 2.2750e+00,  1.0661e+00, -3.9394e-01,  ..., -2.4601e-01,\n",
            "          -1.5952e+00,  3.3553e-02],\n",
            "         [-2.0625e-01,  2.6845e-03, -7.3943e-01,  ...,  1.5054e+00,\n",
            "          -1.2996e+00,  5.6773e-01],\n",
            "         [ 9.2880e-02,  3.4107e-01, -5.7152e-01,  ..., -2.0462e-01,\n",
            "          -1.1767e+00, -1.0419e+00],\n",
            "         [-1.1353e+00,  1.3594e+00, -2.8038e-01,  ...,  8.0674e-01,\n",
            "          -1.0707e+00,  1.1908e+00]]], grad_fn=<EmbeddingBackward0>)\n"
          ]
        }
      ],
      "source": [
        "# Constructing an embedding Layer:\n",
        "embedding = nn.Embedding(VOCAB_SIZE, WORD_VEC_SIZE)\n",
        "input = torch.LongTensor([x_1, x_2 ])\n",
        "embedded=embedding(input)\n",
        "print(embedded)"
      ]
    },
    {
      "cell_type": "markdown",
      "metadata": {
        "id": "dnZqwzKkZRXE"
      },
      "source": [
        "**If we inspect the shape of the new tensor ``embedded``, we will see the second dimension now changed to 6, to match the max sequence length:**"
      ]
    },
    {
      "cell_type": "code",
      "execution_count": 10,
      "metadata": {
        "colab": {
          "base_uri": "https://localhost:8080/"
        },
        "id": "sfEWQb0PZRXF",
        "outputId": "768c63af-b719-4ba9-b0bb-3fcaf24e4af1"
      },
      "outputs": [
        {
          "output_type": "stream",
          "name": "stdout",
          "text": [
            "torch.Size([2, 6, 300])\n"
          ]
        }
      ],
      "source": [
        "print(embedded.size())"
      ]
    },
    {
      "cell_type": "markdown",
      "metadata": {
        "id": "nedFF9OqZRXF"
      },
      "source": [
        "### How does Pytorch initialize word vector dimensions/weights?"
      ]
    },
    {
      "cell_type": "markdown",
      "metadata": {
        "id": "GwT3OwoNZRXF"
      },
      "source": [
        "Note that Pytorch initializes the word vectors with initialized from a **normal distribution** $ \\mathcal{N}(0, 1) $. The word embedding weights are by default learnable parameters in Pytorch and so they will be adjusted during training. (Note: These weights can be initialized from an external word embedding tool such as Word2vec, Fasttext, or Glove. Also, the weights can be frozen, which is a reasonable option when initialized from an external tool. You can choose to keep learning them within the model with your training data). Below we show the ones initialized from a normal distribution by Pytorch."
      ]
    },
    {
      "cell_type": "code",
      "execution_count": 11,
      "metadata": {
        "colab": {
          "base_uri": "https://localhost:8080/"
        },
        "id": "4HPfpUKzZRXF",
        "outputId": "d5535888-a65a-43c7-9785-b224ec33d984"
      },
      "outputs": [
        {
          "output_type": "execute_result",
          "data": {
            "text/plain": [
              "Parameter containing:\n",
              "tensor([[ 2.3311e-01, -9.3737e-01, -1.3947e+00,  ...,  2.7655e+00,\n",
              "         -9.0550e-02, -1.4447e+00],\n",
              "        [ 7.3561e-01,  7.0300e-01,  1.3671e+00,  ...,  1.9209e-01,\n",
              "          6.0257e-01,  5.7987e-01],\n",
              "        [ 2.0081e-01, -8.3376e-01,  1.2098e+00,  ..., -1.4564e-01,\n",
              "         -7.1152e-03,  4.0032e-01],\n",
              "        ...,\n",
              "        [ 1.9941e+00,  2.0688e-02,  1.6576e+00,  ..., -1.0220e+00,\n",
              "         -6.2974e-01,  6.5592e-01],\n",
              "        [-3.3078e-01,  1.2312e+00, -5.4520e-01,  ...,  6.5904e-01,\n",
              "         -8.6337e-01, -1.7219e+00],\n",
              "        [-2.0625e-01,  2.6845e-03, -7.3943e-01,  ...,  1.5054e+00,\n",
              "         -1.2996e+00,  5.6773e-01]], requires_grad=True)"
            ]
          },
          "metadata": {},
          "execution_count": 11
        }
      ],
      "source": [
        "embedding.weight"
      ]
    },
    {
      "cell_type": "markdown",
      "metadata": {
        "id": "yAViW1VsZRXF"
      },
      "source": [
        "More information about the ``Embedding`` class can be found [here](https://pytorch.org/docs/stable/_modules/torch/nn/modules/sparse.html#Embedding)."
      ]
    },
    {
      "cell_type": "markdown",
      "metadata": {
        "id": "GefHwvMjZRXF"
      },
      "source": [
        "## Recurrent Neural Networks\n",
        "Recurrent Neural Networks (RNNs) are used to model sequences of arbitrary length (e.g., sequence of words in a sentence, sequence of sentences in a document, sequence of frames in a video). RNNs typically use their internal state (memory) to process sequence of inputs. At each time-step, RNNs output a prediction and hidden state, feeding its previous hidden state into each next step. RNNs are applied in a wide range of NLP applications:\n",
        "- language modeling, where RNN can condition on **all** previous words in the corpus unlike n-gram language model\n",
        "- text classification, where the states act as features (we will see sentiment analysis in this tutorial)\n",
        "- machine translation, where a RNN is used to process a sentence in source language and another RNN is used to decode the sentence in target language.\n",
        "- sequence labeling, where the states in RNN are used to predict a category for each item in the sequence.\n",
        "\n",
        "Recommended reading for understanding the theory of RNNs: https://github.com/UBC-NLP/dlnlp2019/blob/master/slides/RNN.pdf \n"
      ]
    },
    {
      "cell_type": "markdown",
      "metadata": {
        "id": "DNnBsCYHZRXG"
      },
      "source": [
        "### Grabbing few tweets using torchtext"
      ]
    },
    {
      "cell_type": "markdown",
      "metadata": {
        "id": "_j1bGvAJZRXG"
      },
      "source": [
        "Let us follow **torchtext** tutorial to read few tweets from the [sentiment analysis dataset](http://alt.qcri.org/semeval2016/task4/) used in the previous tutorial on feedforward neural networks. The preprocessed (tokenization, removing URLs, mentions, hashtags and so on) tweets are placed under ``data/sentiment-twitter-2016-task4`` folder in three files as ``train.tsv``, ``dev.tsv`` and ``test.tsv``.  \n",
        "\n",
        "Let us view few tweets from ``train.tsv`` using pandas."
      ]
    },
    {
      "cell_type": "code",
      "execution_count": 15,
      "metadata": {
        "colab": {
          "base_uri": "https://localhost:8080/",
          "height": 206
        },
        "id": "tff-6DO8ZRXG",
        "outputId": "b49132fe-3e25-400d-b278-1566542285d9"
      },
      "outputs": [
        {
          "output_type": "execute_result",
          "data": {
            "text/plain": [
              "                                               tweet  label\n",
              "0  dear <<<MENTION>>> the newooffice for mac is g...      2\n",
              "1  <<<MENTION>>> how about you make a system that...      2\n",
              "2  i may be ignorant on this issue but should we ...      2\n",
              "3  thanks to <<<MENTION>>> i just may be switchin...      2\n",
              "4  if i make a game as a <<<HASHTAG>>> universal ...      0"
            ],
            "text/html": [
              "\n",
              "  <div id=\"df-7c414132-a5dc-4f49-be3d-2c4171387acb\">\n",
              "    <div class=\"colab-df-container\">\n",
              "      <div>\n",
              "<style scoped>\n",
              "    .dataframe tbody tr th:only-of-type {\n",
              "        vertical-align: middle;\n",
              "    }\n",
              "\n",
              "    .dataframe tbody tr th {\n",
              "        vertical-align: top;\n",
              "    }\n",
              "\n",
              "    .dataframe thead th {\n",
              "        text-align: right;\n",
              "    }\n",
              "</style>\n",
              "<table border=\"1\" class=\"dataframe\">\n",
              "  <thead>\n",
              "    <tr style=\"text-align: right;\">\n",
              "      <th></th>\n",
              "      <th>tweet</th>\n",
              "      <th>label</th>\n",
              "    </tr>\n",
              "  </thead>\n",
              "  <tbody>\n",
              "    <tr>\n",
              "      <th>0</th>\n",
              "      <td>dear &lt;&lt;&lt;MENTION&gt;&gt;&gt; the newooffice for mac is g...</td>\n",
              "      <td>2</td>\n",
              "    </tr>\n",
              "    <tr>\n",
              "      <th>1</th>\n",
              "      <td>&lt;&lt;&lt;MENTION&gt;&gt;&gt; how about you make a system that...</td>\n",
              "      <td>2</td>\n",
              "    </tr>\n",
              "    <tr>\n",
              "      <th>2</th>\n",
              "      <td>i may be ignorant on this issue but should we ...</td>\n",
              "      <td>2</td>\n",
              "    </tr>\n",
              "    <tr>\n",
              "      <th>3</th>\n",
              "      <td>thanks to &lt;&lt;&lt;MENTION&gt;&gt;&gt; i just may be switchin...</td>\n",
              "      <td>2</td>\n",
              "    </tr>\n",
              "    <tr>\n",
              "      <th>4</th>\n",
              "      <td>if i make a game as a &lt;&lt;&lt;HASHTAG&gt;&gt;&gt; universal ...</td>\n",
              "      <td>0</td>\n",
              "    </tr>\n",
              "  </tbody>\n",
              "</table>\n",
              "</div>\n",
              "      <button class=\"colab-df-convert\" onclick=\"convertToInteractive('df-7c414132-a5dc-4f49-be3d-2c4171387acb')\"\n",
              "              title=\"Convert this dataframe to an interactive table.\"\n",
              "              style=\"display:none;\">\n",
              "        \n",
              "  <svg xmlns=\"http://www.w3.org/2000/svg\" height=\"24px\"viewBox=\"0 0 24 24\"\n",
              "       width=\"24px\">\n",
              "    <path d=\"M0 0h24v24H0V0z\" fill=\"none\"/>\n",
              "    <path d=\"M18.56 5.44l.94 2.06.94-2.06 2.06-.94-2.06-.94-.94-2.06-.94 2.06-2.06.94zm-11 1L8.5 8.5l.94-2.06 2.06-.94-2.06-.94L8.5 2.5l-.94 2.06-2.06.94zm10 10l.94 2.06.94-2.06 2.06-.94-2.06-.94-.94-2.06-.94 2.06-2.06.94z\"/><path d=\"M17.41 7.96l-1.37-1.37c-.4-.4-.92-.59-1.43-.59-.52 0-1.04.2-1.43.59L10.3 9.45l-7.72 7.72c-.78.78-.78 2.05 0 2.83L4 21.41c.39.39.9.59 1.41.59.51 0 1.02-.2 1.41-.59l7.78-7.78 2.81-2.81c.8-.78.8-2.07 0-2.86zM5.41 20L4 18.59l7.72-7.72 1.47 1.35L5.41 20z\"/>\n",
              "  </svg>\n",
              "      </button>\n",
              "      \n",
              "  <style>\n",
              "    .colab-df-container {\n",
              "      display:flex;\n",
              "      flex-wrap:wrap;\n",
              "      gap: 12px;\n",
              "    }\n",
              "\n",
              "    .colab-df-convert {\n",
              "      background-color: #E8F0FE;\n",
              "      border: none;\n",
              "      border-radius: 50%;\n",
              "      cursor: pointer;\n",
              "      display: none;\n",
              "      fill: #1967D2;\n",
              "      height: 32px;\n",
              "      padding: 0 0 0 0;\n",
              "      width: 32px;\n",
              "    }\n",
              "\n",
              "    .colab-df-convert:hover {\n",
              "      background-color: #E2EBFA;\n",
              "      box-shadow: 0px 1px 2px rgba(60, 64, 67, 0.3), 0px 1px 3px 1px rgba(60, 64, 67, 0.15);\n",
              "      fill: #174EA6;\n",
              "    }\n",
              "\n",
              "    [theme=dark] .colab-df-convert {\n",
              "      background-color: #3B4455;\n",
              "      fill: #D2E3FC;\n",
              "    }\n",
              "\n",
              "    [theme=dark] .colab-df-convert:hover {\n",
              "      background-color: #434B5C;\n",
              "      box-shadow: 0px 1px 3px 1px rgba(0, 0, 0, 0.15);\n",
              "      filter: drop-shadow(0px 1px 2px rgba(0, 0, 0, 0.3));\n",
              "      fill: #FFFFFF;\n",
              "    }\n",
              "  </style>\n",
              "\n",
              "      <script>\n",
              "        const buttonEl =\n",
              "          document.querySelector('#df-7c414132-a5dc-4f49-be3d-2c4171387acb button.colab-df-convert');\n",
              "        buttonEl.style.display =\n",
              "          google.colab.kernel.accessAllowed ? 'block' : 'none';\n",
              "\n",
              "        async function convertToInteractive(key) {\n",
              "          const element = document.querySelector('#df-7c414132-a5dc-4f49-be3d-2c4171387acb');\n",
              "          const dataTable =\n",
              "            await google.colab.kernel.invokeFunction('convertToInteractive',\n",
              "                                                     [key], {});\n",
              "          if (!dataTable) return;\n",
              "\n",
              "          const docLinkHtml = 'Like what you see? Visit the ' +\n",
              "            '<a target=\"_blank\" href=https://colab.research.google.com/notebooks/data_table.ipynb>data table notebook</a>'\n",
              "            + ' to learn more about interactive tables.';\n",
              "          element.innerHTML = '';\n",
              "          dataTable['output_type'] = 'display_data';\n",
              "          await google.colab.output.renderOutput(dataTable, element);\n",
              "          const docLink = document.createElement('div');\n",
              "          docLink.innerHTML = docLinkHtml;\n",
              "          element.appendChild(docLink);\n",
              "        }\n",
              "      </script>\n",
              "    </div>\n",
              "  </div>\n",
              "  "
            ]
          },
          "metadata": {},
          "execution_count": 15
        }
      ],
      "source": [
        "import pandas as pd\n",
        "df = pd.read_csv(\"./data/sentiment-twitter-2016-task4/train.tsv\", sep = '\\t', header=None, names=['tweet','label']) # the separator of tsv file is `\\t`\n",
        "df.head()"
      ]
    },
    {
      "cell_type": "markdown",
      "metadata": {
        "id": "OD4pnqtYZRXG"
      },
      "source": [
        "**We import the relevant packages, define the tokenizer and TorchText's fields.**"
      ]
    },
    {
      "cell_type": "code",
      "execution_count": 16,
      "metadata": {
        "id": "cm7EvkAHZRXG"
      },
      "outputs": [],
      "source": [
        "# import related packages\n",
        "import torchtext\n",
        "from torchtext.data import Field, LabelField\n",
        "from torchtext.data import TabularDataset\n",
        "\n",
        "# define the white space tokenizer to get tokens\n",
        "def tokenize_en(tweet):\n",
        "    \"\"\"\n",
        "    Tokenizes English tweet from a string into a list of strings (tokens)\n",
        "    \"\"\"\n",
        "    return tweet.strip().split()\n",
        "\n",
        "# define the TorchText's fields\n",
        "TEXT = Field(sequential=True, tokenize=tokenize_en, lower=True)\n",
        "LABEL = Field(sequential=False, unk_token = None)"
      ]
    },
    {
      "cell_type": "markdown",
      "metadata": {
        "id": "t-ayDSDVZRXG"
      },
      "source": [
        "**To use the different splits (training, development and testing), we use `TabularDataset` class to load datasets.**"
      ]
    },
    {
      "cell_type": "code",
      "execution_count": 17,
      "metadata": {
        "id": "PHaFiwsBZRXH"
      },
      "outputs": [],
      "source": [
        "train, val, test = TabularDataset.splits(\n",
        "    path=\"./data/sentiment-twitter-2016-task4/\", # the root directory where the data lies\n",
        "    train='train.tsv', validation=\"dev.tsv\", test=\"test.tsv\", # file names\n",
        "    format='tsv',\n",
        "    skip_header=False, # if your tsv file has a header, make sure to pass this to ensure it doesn't get proceesed as data!\n",
        "    fields=[('tweet', TEXT), ('label', LABEL)])"
      ]
    },
    {
      "cell_type": "markdown",
      "metadata": {
        "id": "F-sXTw8wZRXH"
      },
      "source": [
        "**Build our vocabulary to map words to integers.**"
      ]
    },
    {
      "cell_type": "code",
      "execution_count": 18,
      "metadata": {
        "id": "tMaMk-dvZRXH"
      },
      "outputs": [],
      "source": [
        "TEXT.build_vocab(train, min_freq=3) # builds vocabulary based on all the words that occur at least twice in the training set\n",
        "LABEL.build_vocab(train)"
      ]
    },
    {
      "cell_type": "markdown",
      "metadata": {
        "id": "YNazwRaWZRXH"
      },
      "source": [
        "**Initialize the iterators for the train, validation, and test data. Note that we set ``sort`` as False so as to not sort examples based on similar lengths which minimizes padding in this example.**"
      ]
    },
    {
      "cell_type": "code",
      "execution_count": 19,
      "metadata": {
        "id": "6CPjS5hoZRXH"
      },
      "outputs": [],
      "source": [
        "from torchtext.data import Iterator, BucketIterator\n",
        "\n",
        "train_iter, val_iter, test_iter = BucketIterator.splits(\n",
        " (train, val, test), # we pass in the datasets we want the iterator to draw data from\n",
        " batch_sizes=(4,64,64),\n",
        " sort_key=lambda x: len(x.tweet), \n",
        " sort=False,\n",
        "# An argument to use for sorting examples in order to batch together examples with similar lengths and minimize padding. \n",
        " sort_within_batch=False\n",
        ")"
      ]
    },
    {
      "cell_type": "markdown",
      "metadata": {
        "id": "DJMq9H9MZRXH"
      },
      "source": [
        "**Create a batch of four examples and print them**"
      ]
    },
    {
      "cell_type": "code",
      "execution_count": 20,
      "metadata": {
        "colab": {
          "base_uri": "https://localhost:8080/"
        },
        "id": "dkAimVwbZRXH",
        "outputId": "ab608246-59b6-47f6-c5ae-86bb4ef1251c"
      },
      "outputs": [
        {
          "output_type": "stream",
          "name": "stdout",
          "text": [
            "processed tweets: \n",
            "0  sample: ['these', 'were', 'the', 'best', \"sunday's\", 'watching', 'harry', 'potter', 'with', 'my', 'girl', '<unk>', '<<<hashtag>>>', '<<<hashtag>>>', '<<<url>>>', '<<<url>>>', '<pad>', '<pad>', '<pad>', '<pad>', '<pad>', '<pad>', '<pad>', '<pad>', '<pad>', '<pad>']\n",
            "1  sample: ['<unk>', '<unk>', 'will', 'have', 'played', 'for', 'psg', 'juventus', 'and', 'bayern', 'by', 'the', 'time', 'he', 'is', '<<<digit>>>', 'but', 'may', 'not', 'have', 'made', 'his', 'international', 'debut', 'some', 'feat']\n",
            "2  sample: ['<unk>', 'part', 'of', 'the', 'migration', 'crisis', 'is', 'caused', 'by', 'turkey', '<unk>', 'europe', 'for', 'the', 'cold', '<unk>', 'given', 'to', 'erdogan', '<<<url>>>', '<pad>', '<pad>', '<pad>', '<pad>', '<pad>', '<pad>']\n",
            "3  sample: ['my', 'weekend', 'plans', 'play', '<unk>', '<<<digit>>>', 'see', 'magic', 'mike', 'xxl', 'with', 'my', 'sister', 'on', 'sunday', 'what', 'are', 'everyone', '<unk>', 'plans', '<pad>', '<pad>', '<pad>', '<pad>', '<pad>', '<pad>']\n"
          ]
        }
      ],
      "source": [
        "# create a single batch and terminate the loop\n",
        "for batch in train_iter:\n",
        "    tweets = batch.tweet\n",
        "    labels = batch.label\n",
        "    break  #we use first batch as an example.\n",
        "\n",
        "# print the four examples with padding \n",
        "print(\"processed tweets: \")\n",
        "for j in range(tweets.shape[1]): # sample loop\n",
        "    tmp = []\n",
        "    for i in range(tweets.shape[0]): # token loop\n",
        "        tmp.append(TEXT.vocab.itos[tweets[i,j]])\n",
        "    print(j,\" sample:\",tmp)"
      ]
    },
    {
      "cell_type": "markdown",
      "metadata": {
        "id": "KluBisyEZRXI"
      },
      "source": [
        "**Let us pick up 4 tweets from the training set and convert them to tensors.**\n",
        "\n",
        "**Create a batch of four examples and print them**"
      ]
    },
    {
      "cell_type": "code",
      "execution_count": 21,
      "metadata": {
        "colab": {
          "base_uri": "https://localhost:8080/"
        },
        "id": "UmaDsxVJZRXI",
        "outputId": "ffd65e1e-e9eb-48e5-cb0b-fe6dc716f226"
      },
      "outputs": [
        {
          "output_type": "stream",
          "name": "stdout",
          "text": [
            "processed tweets: \n",
            "0  sample: ['the', 'new', 'iphone', 'gets', 'announced', 'today', \"that's\", 'really', 'all', 'that', 'matters', 'happy', 'wednesday', '<pad>', '<pad>', '<pad>', '<pad>', '<pad>', '<pad>', '<pad>', '<pad>', '<pad>', '<pad>']\n",
            "1  sample: ['<unk>', 'tomorrow', 'and', \"that's\", 'it', 'on', 'the', 'arsenal', 'front', '<unk>', 'to', 'watch', 'england', 'spain', 'much', 'more', '<unk>', 'to', 'watch', '<pad>', '<pad>', '<pad>', '<pad>']\n",
            "2  sample: ['fleetwood', 'mac', 'are', 'responsible', 'for', 'some', 'of', 'the', 'best', 'songs', 'ever', 'recorded', 'come', 'see', 'them', 'performed', 'this', 'saturday', 'by', 'the', 'world', 'turning', '<unk>']\n",
            "3  sample: ['update', 'on', 'the', 'event', 'for', 'saturday', 'sept', 'for', 'those', 'who', 'were', 'expecting', 'a', 'fleetwood', 'mac', 'open', '<unk>', 'night', '<<<url>>>', '<pad>', '<pad>', '<pad>', '<pad>']\n"
          ]
        }
      ],
      "source": [
        "# create a single batch and terminate the loop\n",
        "for batch in train_iter:\n",
        "    tweets = batch.tweet\n",
        "    labels = batch.label\n",
        "    break  #we use first batch as an example.\n",
        "\n",
        "# print the four examples with padding \n",
        "print(\"processed tweets: \")\n",
        "for j in range(tweets.shape[1]): # sample loop\n",
        "    tmp = []\n",
        "    for i in range(tweets.shape[0]): # token loop\n",
        "        tmp.append(TEXT.vocab.itos[tweets[i,j]])\n",
        "    print(j,\" sample:\",tmp)"
      ]
    },
    {
      "cell_type": "markdown",
      "metadata": {
        "id": "rjCPdl61ZRXI"
      },
      "source": [
        "### Creating a single hidden layer RNN\n",
        "\n",
        "PyTorch has ``torch.nn.RNN`` module that implements the vanilla (Elman) RNN with *tanh* or *ReLU* non-linearity. The documentation for this module is [here](https://pytorch.org/docs/stable/nn.html#torch.nn.RNN). Let us use the sample batch of five examples created before to understand this module.\n",
        "\n",
        "In this tutorial, we will represent the input tweet using a sequence of word embeddings (for each word present in the tweet). We will use ``torch.nn.Embedding module`` to store word vectors corresponding to words in the vocabulary.\n",
        "\n",
        "Before implementing the embedding module for our usecase, let us compute the size of the word vocabulary."
      ]
    },
    {
      "cell_type": "code",
      "execution_count": 22,
      "metadata": {
        "colab": {
          "base_uri": "https://localhost:8080/"
        },
        "id": "hHFjG3unZRXI",
        "outputId": "a074b379-9f82-4a15-f41d-0d14ad6e0d10"
      },
      "outputs": [
        {
          "output_type": "stream",
          "name": "stdout",
          "text": [
            "3343\n"
          ]
        }
      ],
      "source": [
        "VOCAB_SIZE = len(TEXT.vocab.stoi)\n",
        "print(VOCAB_SIZE)"
      ]
    },
    {
      "cell_type": "markdown",
      "metadata": {
        "id": "XCcfFMclZRXI"
      },
      "source": [
        "Let us implement the embedding module (whose underlying weight matrix shape is (``vocabulary size`` $\\times$ ``word embedding size``) for our usecase:"
      ]
    },
    {
      "cell_type": "code",
      "execution_count": 23,
      "metadata": {
        "id": "Pn32oGyIZRXJ"
      },
      "outputs": [],
      "source": [
        "# an Embedding module containing 10 dimensional tensor for each word in the vocabulary\n",
        "import torch\n",
        "import torch.nn as nn\n",
        "WORD_VEC_SIZE=300\n",
        "# Note, the parameters to Embedding class below are:\n",
        "# num_embeddings (int): size of the dictionary of embeddings\n",
        "# embedding_dim (int): the size of each embedding vector\n",
        "# For more details on Embedding class, see: https://github.com/pytorch/pytorch/blob/master/torch/nn/modules/sparse.py\n",
        "embedding = nn.Embedding(VOCAB_SIZE, WORD_VEC_SIZE, sparse=True)"
      ]
    },
    {
      "cell_type": "markdown",
      "metadata": {
        "id": "xienOoE0ZRXJ"
      },
      "source": [
        "Let us now feed the tensors of our sample batch to the embedding module and extract the sequence of word embeddings for each tweet."
      ]
    },
    {
      "cell_type": "code",
      "execution_count": 24,
      "metadata": {
        "colab": {
          "base_uri": "https://localhost:8080/"
        },
        "id": "xUgF7lDUZRXJ",
        "outputId": "95ee45b2-49c8-478a-a0a2-a18ab479d911"
      },
      "outputs": [
        {
          "output_type": "stream",
          "name": "stdout",
          "text": [
            "************************************************** \n",
            " Word ids for the first batch (recall, it has 4 sentences, each column representing a sentence): \n",
            " tensor([[   2,    0,  174,  393],\n",
            "        [  49,   21,  177,    8],\n",
            "        [  88,    9,   53,    2],\n",
            "        [ 541,  281, 2489,  151],\n",
            "        [ 490,   20,   15,   15],\n",
            "        [  77,    8,   95,   67],\n",
            "        [ 281,    2,   12,  256],\n",
            "        [ 169,  161,    2,   15],\n",
            "        [  39,  878,   91,  408],\n",
            "        [  25,    0,  485,  100],\n",
            "        [2993,    3,  244,  286],\n",
            "        [ 175,   56, 2480, 1890],\n",
            "        [ 133,  871,  121,    7],\n",
            "        [   1, 1738,   41,  174],\n",
            "        [   1,  225,  238,  177],\n",
            "        [   1,   94, 1345,  295],\n",
            "        [   1,    0,   27,    0],\n",
            "        [   1,    3,   67,   59],\n",
            "        [   1,   56,   66,    5],\n",
            "        [   1,    1,    2,    1],\n",
            "        [   1,    1,   79,    1],\n",
            "        [   1,    1, 1383,    1],\n",
            "        [   1,    1,    0,    1]]) \n",
            " **************************************************\n",
            "************************************************** \n",
            " Tweet input word embeddings size:  torch.Size([23, 4, 300]) \n",
            " **************************************************\n"
          ]
        }
      ],
      "source": [
        "# print tensor containing word ids for our batch\n",
        "print(\"*\"*50, \"\\n Word ids for the first batch (recall, it has 4 sentences, each column representing a sentence): \\n\", tweets.data, \"\\n\",\"*\"*50,)\n",
        "\n",
        "# feed the \"word ids\" tensor to the embedding module\n",
        "tweet_input_embeddings = embedding(tweets)\n",
        "\n",
        "# print the dimensions of the tweet_embeddings\n",
        "print(\"*\"*50, \"\\n Tweet input word embeddings size: \", tweet_input_embeddings.size(), \"\\n\",\"*\"*50,) \n",
        "# first dimension - sequence length: number of words per example (same across the whole batch, after padding) --> max_seq = 22\n",
        "# second dimension -  batch size / number of examples in the batch --> 4\n",
        "# third dimension - number of dimensions in the word vector"
      ]
    },
    {
      "cell_type": "markdown",
      "metadata": {
        "id": "FMrsp8LfZRXJ"
      },
      "source": [
        "  "
      ]
    },
    {
      "cell_type": "markdown",
      "metadata": {
        "id": "zj5gbe8nZRXJ"
      },
      "source": [
        "Let's actually view the actual word embeddings tensor for this batch:"
      ]
    },
    {
      "cell_type": "code",
      "execution_count": 25,
      "metadata": {
        "colab": {
          "base_uri": "https://localhost:8080/"
        },
        "id": "UCG-AtdmZRXJ",
        "outputId": "31d71b80-d15a-4e81-c84f-b2e88bb11ea1"
      },
      "outputs": [
        {
          "output_type": "stream",
          "name": "stdout",
          "text": [
            "************************************************** \n",
            " Embeddings for the first batch: \n",
            " tensor([[[ 2.1218,  0.9743, -0.1468,  ..., -0.5750,  0.6821, -0.8944],\n",
            "         [ 0.7494, -1.1060, -1.2781,  ...,  0.8678, -0.6486, -0.0595],\n",
            "         [-0.3703,  0.6844, -0.3862,  ..., -0.1021, -0.3727, -1.3854],\n",
            "         [ 0.8089,  0.7152,  1.5386,  ..., -0.1323,  1.1486,  0.7147]],\n",
            "\n",
            "        [[ 1.1508, -0.1211, -1.4412,  ...,  0.3643, -1.1876, -1.1646],\n",
            "         [ 0.0584,  0.1019,  0.4871,  ..., -0.1036,  0.6846,  2.9003],\n",
            "         [ 1.3016, -1.0430,  0.5538,  ...,  0.5468, -0.3526,  1.1384],\n",
            "         [ 0.0396, -0.0064,  0.0487,  ..., -1.3168,  2.2326, -0.8042]],\n",
            "\n",
            "        [[-0.7244,  0.2086, -0.9477,  ..., -1.2408,  1.4763, -0.1403],\n",
            "         [ 0.5514, -0.6204, -3.3181,  ..., -1.5047,  0.2029, -0.6665],\n",
            "         [-0.7907, -1.1186, -0.4532,  ..., -0.7396,  0.7914,  0.2314],\n",
            "         [ 2.1218,  0.9743, -0.1468,  ..., -0.5750,  0.6821, -0.8944]],\n",
            "\n",
            "        ...,\n",
            "\n",
            "        [[-1.1722, -0.2612,  2.4188,  ...,  0.1687, -0.2265, -1.1488],\n",
            "         [-1.1722, -0.2612,  2.4188,  ...,  0.1687, -0.2265, -1.1488],\n",
            "         [ 0.6266,  0.6139,  0.4225,  ..., -1.3213, -0.0790,  0.4306],\n",
            "         [-1.1722, -0.2612,  2.4188,  ...,  0.1687, -0.2265, -1.1488]],\n",
            "\n",
            "        [[-1.1722, -0.2612,  2.4188,  ...,  0.1687, -0.2265, -1.1488],\n",
            "         [-1.1722, -0.2612,  2.4188,  ...,  0.1687, -0.2265, -1.1488],\n",
            "         [-0.7929,  0.6347,  0.2123,  ...,  1.6693, -0.2785,  0.9318],\n",
            "         [-1.1722, -0.2612,  2.4188,  ...,  0.1687, -0.2265, -1.1488]],\n",
            "\n",
            "        [[-1.1722, -0.2612,  2.4188,  ...,  0.1687, -0.2265, -1.1488],\n",
            "         [-1.1722, -0.2612,  2.4188,  ...,  0.1687, -0.2265, -1.1488],\n",
            "         [ 0.7494, -1.1060, -1.2781,  ...,  0.8678, -0.6486, -0.0595],\n",
            "         [-1.1722, -0.2612,  2.4188,  ...,  0.1687, -0.2265, -1.1488]]],\n",
            "       grad_fn=<EmbeddingBackward0>) \n",
            " **************************************************\n"
          ]
        }
      ],
      "source": [
        "print(\"*\"*50, \"\\n Embeddings for the first batch: \\n\", tweet_input_embeddings, \"\\n\",\"*\"*50,) "
      ]
    },
    {
      "cell_type": "markdown",
      "metadata": {
        "id": "krIsRqr6ZRXK"
      },
      "source": [
        "What we are seeing is the actual word vectors representing each of the 4 sentences (i.e., whole batch).\n",
        "This is dimension 2 in ``tweet_input_embeddings``. "
      ]
    },
    {
      "cell_type": "code",
      "execution_count": 26,
      "metadata": {
        "colab": {
          "base_uri": "https://localhost:8080/"
        },
        "id": "3OJQQETsZRXK",
        "outputId": "19c9e9f0-a191-4a1c-d759-bf2e8241dc28"
      },
      "outputs": [
        {
          "output_type": "execute_result",
          "data": {
            "text/plain": [
              "4"
            ]
          },
          "metadata": {},
          "execution_count": 26
        }
      ],
      "source": [
        "tweet_input_embeddings.size()[1]"
      ]
    },
    {
      "cell_type": "markdown",
      "metadata": {
        "id": "_76DYDpkZRXK"
      },
      "source": [
        "As mentioned, the dimension 1 (second dimension) in ``tweet_input_embeddings`` is ``max_seq length`` in this batch:"
      ]
    },
    {
      "cell_type": "code",
      "execution_count": 27,
      "metadata": {
        "colab": {
          "base_uri": "https://localhost:8080/"
        },
        "id": "ttyLhmBfZRXK",
        "outputId": "b3738655-7e90-4a0b-f6f2-d907eb26e8ee"
      },
      "outputs": [
        {
          "output_type": "execute_result",
          "data": {
            "text/plain": [
              "23"
            ]
          },
          "metadata": {},
          "execution_count": 27
        }
      ],
      "source": [
        "tweet_input_embeddings.size()[0]"
      ]
    },
    {
      "cell_type": "markdown",
      "metadata": {
        "id": "UuDK2eebZRXK"
      },
      "source": [
        "Now, dimension 3 in ``tweet_input_embeddings`` (indexed as 2) is the size of the word vectors:"
      ]
    },
    {
      "cell_type": "code",
      "execution_count": 28,
      "metadata": {
        "colab": {
          "base_uri": "https://localhost:8080/"
        },
        "id": "H8GeDk5cZRXK",
        "outputId": "ddaa421f-3a7e-4c12-cf52-48e6805e190b"
      },
      "outputs": [
        {
          "output_type": "execute_result",
          "data": {
            "text/plain": [
              "300"
            ]
          },
          "metadata": {},
          "execution_count": 28
        }
      ],
      "source": [
        "tweet_input_embeddings.size()[2]"
      ]
    },
    {
      "cell_type": "markdown",
      "metadata": {
        "id": "OchbNA6QZRXK"
      },
      "source": [
        "Let's look at the vector for the ``first word`` in the ``first sentence`` in the batch:"
      ]
    },
    {
      "cell_type": "code",
      "execution_count": 29,
      "metadata": {
        "colab": {
          "base_uri": "https://localhost:8080/"
        },
        "id": "lGoWJq0KZRXK",
        "outputId": "b170fecd-4b07-454f-b575-c21ee1321295"
      },
      "outputs": [
        {
          "output_type": "execute_result",
          "data": {
            "text/plain": [
              "torch.Size([1, 1, 300])"
            ]
          },
          "metadata": {},
          "execution_count": 29
        }
      ],
      "source": [
        "tweet_input_embeddings[:1, :1, :].shape"
      ]
    },
    {
      "cell_type": "code",
      "execution_count": 30,
      "metadata": {
        "colab": {
          "base_uri": "https://localhost:8080/"
        },
        "id": "_SAu_L73ZRXL",
        "outputId": "2397fdba-d4bd-4417-c3a4-0233db126131"
      },
      "outputs": [
        {
          "output_type": "execute_result",
          "data": {
            "text/plain": [
              "tensor([[[ 2.1218,  0.9743, -0.1468, -1.2003,  1.8816, -2.4530, -1.2286,\n",
              "          -0.4960,  0.4330,  0.5830,  0.1121,  1.8909, -0.5137,  0.8890,\n",
              "           0.1217, -0.5173,  0.4364, -0.4072,  0.5998,  0.9329, -0.0667,\n",
              "          -0.6496,  1.5419,  1.5144,  1.6667,  0.5024, -0.0499, -1.0936,\n",
              "           1.1748,  0.2787,  0.9768, -0.2663,  0.5993,  0.1757,  0.4547,\n",
              "          -0.4720,  0.2700,  1.0112,  0.6929,  0.0404,  0.9979,  1.0840,\n",
              "          -1.4953,  0.7288, -0.7243, -1.2792,  0.2762, -0.3202, -0.4962,\n",
              "          -0.2118,  1.1177,  0.1352, -0.3276,  0.0089,  1.8404,  0.5544,\n",
              "           0.5006,  1.5396,  0.8025, -0.3131, -1.2787, -1.2829, -0.9398,\n",
              "          -0.6095, -0.3534,  0.8061, -1.1868, -0.1298,  0.3473,  0.4607,\n",
              "          -0.7264, -0.2079, -0.1168,  1.0986,  1.5933, -0.0576,  0.0211,\n",
              "           0.7053,  0.2489, -0.6605,  0.8973,  0.0802, -0.1569, -0.6637,\n",
              "           0.5189, -0.1655,  0.1572,  0.4629, -0.3198,  0.1901,  0.8565,\n",
              "          -0.0860, -0.3288, -0.0321,  0.4358,  0.4903, -0.7427,  0.5094,\n",
              "           0.1725, -0.2959,  1.0166,  1.3328, -0.3140,  0.9700, -1.2736,\n",
              "           0.3641,  1.8026, -0.7338,  0.7449,  0.4760, -0.3281,  0.4993,\n",
              "          -1.0839, -0.8054, -0.1570,  0.1407,  0.0076,  0.5672,  0.8063,\n",
              "           0.5875,  0.0950,  0.2914,  1.9927, -0.1322, -0.8436, -0.0934,\n",
              "           0.4061,  0.9630,  0.2756,  0.6087, -0.0852, -1.2211, -0.2789,\n",
              "           2.0970,  0.7358, -0.0909,  0.5386, -0.7843, -0.5172, -1.7208,\n",
              "          -0.0611,  1.5308,  1.1861,  0.3453, -0.1334,  0.5831,  0.2877,\n",
              "           0.2739, -0.9269,  1.6966, -0.2789,  0.3422,  0.2069, -0.8052,\n",
              "          -0.7701, -0.7289,  0.2400, -0.0221,  1.1177, -0.8537,  1.4746,\n",
              "          -0.3545,  1.6442,  1.3534, -0.8242, -0.3672, -2.2907,  1.4550,\n",
              "           0.2583,  2.3955,  0.0695, -0.9334, -0.2466,  1.5209,  0.3810,\n",
              "          -0.1610, -0.4060,  0.3773, -1.2241,  1.2297, -1.1154, -0.2965,\n",
              "           0.2492, -0.4556,  0.1615,  1.2241, -2.4534, -0.4911,  0.0818,\n",
              "           0.0728,  0.0398, -2.2908,  1.4079,  2.2316, -0.5413, -1.7892,\n",
              "           2.1892, -0.9642,  0.5286, -0.8868,  0.2090,  0.6704,  0.4648,\n",
              "           0.1767, -0.2279, -0.9185, -0.2976, -0.0725,  1.0635, -1.8195,\n",
              "           0.3290, -0.0433,  0.4701, -0.4530,  0.7852, -1.2473,  0.8586,\n",
              "           0.8940, -1.2148,  0.6404,  1.1423,  0.6058, -0.7643,  0.8443,\n",
              "          -0.1721,  0.4837, -0.0419, -0.4797,  1.7009,  0.9020,  1.9531,\n",
              "          -1.0147,  0.9417,  0.4285, -0.5659, -0.4755,  0.4268, -0.7336,\n",
              "           0.3650,  0.3653, -0.3802,  1.7209,  0.9613, -0.6065, -0.3375,\n",
              "          -2.7034,  1.9549,  1.7035,  0.2859,  0.0274,  2.2091,  0.2900,\n",
              "          -0.8321, -1.3541, -1.8729, -0.5208,  0.2914, -1.8598,  0.3746,\n",
              "          -0.7516,  1.1466,  0.8834,  0.6832, -0.8617, -2.5419, -0.4948,\n",
              "           0.2599,  1.0732, -0.0251,  0.7991, -1.0191,  0.8289, -0.2082,\n",
              "          -0.3223, -1.3121,  0.6816, -0.9514,  0.5114, -0.2011, -0.3024,\n",
              "          -0.3159,  0.8249, -1.6614, -2.0632,  1.0042, -1.9720, -0.3403,\n",
              "          -1.3016,  0.6943,  1.2267, -0.6011,  0.1768,  1.0325,  0.1591,\n",
              "          -0.1335, -0.6492, -0.9890, -0.5750,  0.6821, -0.8944]]],\n",
              "       grad_fn=<SliceBackward0>)"
            ]
          },
          "metadata": {},
          "execution_count": 30
        }
      ],
      "source": [
        "tweet_input_embeddings[:1, :1, :]"
      ]
    },
    {
      "cell_type": "markdown",
      "metadata": {
        "id": "aXl9P_-tZRXL"
      },
      "source": [
        "Let's look at the ``first 5 dimensions`` of that same ``first word`` of the ``first sentence``:"
      ]
    },
    {
      "cell_type": "code",
      "execution_count": 31,
      "metadata": {
        "colab": {
          "base_uri": "https://localhost:8080/"
        },
        "id": "kzBkoly8ZRXL",
        "outputId": "4c08a7ee-d739-470e-ce07-8b82e6400d8f"
      },
      "outputs": [
        {
          "output_type": "execute_result",
          "data": {
            "text/plain": [
              "tensor([[[ 2.1218,  0.9743, -0.1468, -1.2003,  1.8816]]],\n",
              "       grad_fn=<SliceBackward0>)"
            ]
          },
          "metadata": {},
          "execution_count": 31
        }
      ],
      "source": [
        "tweet_input_embeddings[:1, :1, :5]"
      ]
    },
    {
      "cell_type": "markdown",
      "metadata": {
        "id": "JAS5ABdPZRXL"
      },
      "source": [
        "The following shows you the ``first 5 dimensions`` of the ``first word`` from ``each of the 4 sentences``"
      ]
    },
    {
      "cell_type": "code",
      "execution_count": 32,
      "metadata": {
        "colab": {
          "base_uri": "https://localhost:8080/"
        },
        "id": "vNsVUq1gZRXL",
        "outputId": "2881ebd9-64dc-4cb6-e0ef-a7df35a5d24c"
      },
      "outputs": [
        {
          "output_type": "execute_result",
          "data": {
            "text/plain": [
              "tensor([[[ 2.1218,  0.9743, -0.1468, -1.2003,  1.8816],\n",
              "         [ 0.7494, -1.1060, -1.2781,  0.2435,  2.0851],\n",
              "         [-0.3703,  0.6844, -0.3862, -0.3838,  1.6359],\n",
              "         [ 0.8089,  0.7152,  1.5386,  1.5421, -0.4786]]],\n",
              "       grad_fn=<SliceBackward0>)"
            ]
          },
          "metadata": {},
          "execution_count": 32
        }
      ],
      "source": [
        "tweet_input_embeddings[:1, :, :5]"
      ]
    },
    {
      "cell_type": "markdown",
      "metadata": {
        "id": "JbebyBJ_ZRXL"
      },
      "source": [
        "The following shows you the ``last 7 dimensions`` of the ``last word`` from ``the last sentence``. Enjoy!"
      ]
    },
    {
      "cell_type": "code",
      "execution_count": 33,
      "metadata": {
        "colab": {
          "base_uri": "https://localhost:8080/"
        },
        "id": "73-yKgMAZRXM",
        "outputId": "2e8ca55f-16c3-40f4-cad2-7a5ea7eb2084"
      },
      "outputs": [
        {
          "output_type": "execute_result",
          "data": {
            "text/plain": [
              "tensor([[[-1.8665, -0.7544,  0.2942, -2.0007,  0.1687, -0.2265, -1.1488]]],\n",
              "       grad_fn=<SliceBackward0>)"
            ]
          },
          "metadata": {},
          "execution_count": 33
        }
      ],
      "source": [
        "tweet_input_embeddings[-1:, 3:, -7:]"
      ]
    },
    {
      "cell_type": "markdown",
      "metadata": {
        "id": "hbdM9TdPZRXM"
      },
      "source": [
        "We will be passing the embedding vector for the first word, Simultaneously for each senetence in the batch, to the RNN. But let's now define an RNN module first:"
      ]
    },
    {
      "cell_type": "code",
      "execution_count": 34,
      "metadata": {
        "id": "TSdM1qLTZRXM"
      },
      "outputs": [],
      "source": [
        "\"\"\"\n",
        "define the RNN module\n",
        "\"\"\"\n",
        "# first input - number of dimesnions for word vectors for a vector x (300, size of the word embedding)\n",
        "# second input - number of nodes in hidden state h_t (50, size of the hidden layer)\n",
        "# third input - number of recurrent layers (we set it to 1)\n",
        "rnn = nn.RNN(input_size=300, hidden_size=50, num_layers=1) # input_size, hidden_size, num_layers"
      ]
    },
    {
      "cell_type": "markdown",
      "metadata": {
        "id": "rrrHdE05ZRXM"
      },
      "source": [
        "We will now pass the ``tweet_input_embeddings`` (representations of words in our batch) to RNN. Before we do, we need to know RNN also *optionally* takes a parameter for the ``initial hidden state h0`` (that is, the hidden state we will input to the model before it runs. It is just something that we need to start the model. If we don't provide it, Pytorch will just initialize h0 to a tensor of zeros. \n",
        "\n",
        "Let's construct an ``initial hidden state h0``. Note the shape of its tensor, and what each of the 3 parameters it takes mean."
      ]
    },
    {
      "cell_type": "code",
      "execution_count": 35,
      "metadata": {
        "colab": {
          "base_uri": "https://localhost:8080/"
        },
        "id": "Dxa2h5XEZRXM",
        "outputId": "4bb4b52b-8d33-4267-bdca-4d895f47e087"
      },
      "outputs": [
        {
          "output_type": "stream",
          "name": "stdout",
          "text": [
            "The shape as as expected:  torch.Size([1, 4, 50])\n"
          ]
        }
      ],
      "source": [
        "\"\"\"\n",
        "hidden layer at time-step 0 (h_0)\n",
        "\"\"\"\n",
        "# first dimension - number of RNN layers (1)\n",
        "# second dimension - number of examples/sentences in a batch\n",
        "# third dimension - number of nodes in hidden layer (50, size of the hidden layer)\n",
        "h0 = torch.randn(1, 4, 50)\n",
        "print(\"The shape as as expected: \", h0.shape)"
      ]
    },
    {
      "cell_type": "markdown",
      "metadata": {
        "id": "WXw4UUowZRXM"
      },
      "source": [
        "Let us feed both the hidden representation constructed above and tweet embeddings to our RNN model.\n",
        "We will get back two objects ``output`` and ``hn`` that we will need to understand."
      ]
    },
    {
      "cell_type": "code",
      "execution_count": 36,
      "metadata": {
        "id": "jCPxQcU6ZRXN"
      },
      "outputs": [],
      "source": [
        "\"\"\"\n",
        "forward propagation over the RNN model\n",
        "\"\"\"\n",
        "output, hn = rnn(tweet_input_embeddings, h0) # h0 is optional input, defaults to tensor of 0's of apprpriate size (num_layers, batch, hidden_size) when not provided"
      ]
    },
    {
      "cell_type": "markdown",
      "metadata": {
        "id": "wPkx7SGZZRXN"
      },
      "source": [
        "But what is ``output``? Well, let's inspect its shape first:"
      ]
    },
    {
      "cell_type": "code",
      "execution_count": 37,
      "metadata": {
        "colab": {
          "base_uri": "https://localhost:8080/"
        },
        "id": "O_EjEO9PZRXN",
        "outputId": "dcefb691-edb0-41a2-c6c4-5d13db019874"
      },
      "outputs": [
        {
          "output_type": "stream",
          "name": "stdout",
          "text": [
            "output size:  torch.Size([23, 4, 50])\n"
          ]
        }
      ],
      "source": [
        "# output = seq_len, batch, hidden_size (output features from last layer of RNN)\n",
        "print(\"output size: \", output.size())"
      ]
    },
    {
      "cell_type": "markdown",
      "metadata": {
        "id": "XCoXpbQ-ZRXN"
      },
      "source": [
        "Here's what we need to know about ``output``:\n",
        "- The first dimension in the ``output`` tensor is the ``max_seq length``. \n",
        "- The second dimension is ``batch_size`` (the number of examples/sentences in our batch = 4).\n",
        "- The third dimension is the ``size of nodes/units`` in our hidden layer (=50). "
      ]
    },
    {
      "cell_type": "markdown",
      "metadata": {
        "id": "v4Cni2_TZRXN"
      },
      "source": [
        "Here's what we need to know about ``hn``:\n",
        "- ``hn`` is a tensor of shape (num_layers, batch_size, hidden_size / number of hidden layer nodes) containing the hidden state for the last ``time step`` \n",
        "(``t = max_seq_length``). Actually, `output` is tensor containing the output features (h_t) from the layer of RNN, for each t. Namely, `output` returns all the hidden states of all time steps from RNN. Hence, the last element of `output` (i.e., `output[-1, :, :]`) is `h_n`. "
      ]
    },
    {
      "cell_type": "code",
      "execution_count": 38,
      "metadata": {
        "colab": {
          "base_uri": "https://localhost:8080/"
        },
        "id": "k9JYamgzZRXN",
        "outputId": "cf4b6e08-6f35-4151-800b-07f88391c8d6"
      },
      "outputs": [
        {
          "output_type": "stream",
          "name": "stdout",
          "text": [
            "last hidden state size:  torch.Size([1, 4, 50])\n"
          ]
        }
      ],
      "source": [
        "# h_n = num_layers, batch, hidden_size (hidden state for t=seq_len or hidden state at last timestep)\n",
        "print(\"last hidden state size: \", hn.size())"
      ]
    },
    {
      "cell_type": "markdown",
      "metadata": {
        "id": "A_gtB7g_ZRXN"
      },
      "source": [
        "You can take the output representation for a tweet after processing the last token (t=seq_len or last timestep) and call the resulting representation as the tweet representation that **\"summarizes\" the information present** in the tweet. This tweet representation can further be used for a useful task like tweet classification (we will try out sentiment analysis later in this tutorial) by adding a classification module on top of the tweet representation.\n",
        "\n",
        "Let us compute the final tweet representation:"
      ]
    },
    {
      "cell_type": "code",
      "execution_count": 39,
      "metadata": {
        "colab": {
          "base_uri": "https://localhost:8080/"
        },
        "id": "kPZQhk0XZRXN",
        "outputId": "401b1ba7-281d-4cd6-d5c3-2483d98f4708"
      },
      "outputs": [
        {
          "output_type": "stream",
          "name": "stdout",
          "text": [
            "tweet output embeddings size:  torch.Size([4, 50])\n"
          ]
        }
      ],
      "source": [
        "tweet_output_embeddings = output[-1,:,:] # -1 fetches the embeddings from the last timestep\n",
        "print(\"tweet output embeddings size: \", tweet_output_embeddings.size())\n",
        "# first dimension - number of tweets in the batch (4)\n",
        "# second dimension - number of features in hidden state h_t (50, size of the hidden layer)"
      ]
    },
    {
      "cell_type": "markdown",
      "metadata": {
        "id": "EiiDIdC7ZRXO"
      },
      "source": [
        "### Self Attention Mechanism\n"
      ]
    },
    {
      "cell_type": "markdown",
      "metadata": {
        "id": "CjTyAZjLZRXO"
      },
      "source": [
        "The fixed-length context vector carries the burden of encoding the complete \"meaning\" of the input sequence, regardless of its length. This causes information bottleneck problem. Attention provides a solution to the bottleneck problem."
      ]
    },
    {
      "cell_type": "code",
      "execution_count": 40,
      "metadata": {
        "colab": {
          "base_uri": "https://localhost:8080/"
        },
        "id": "0S0mGYFGZRXO",
        "outputId": "417ca620-6a52-474c-c04c-eb0faa9e68a8"
      },
      "outputs": [
        {
          "output_type": "stream",
          "name": "stdout",
          "text": [
            "torch.Size([4, 50])\n",
            "torch.Size([23, 4, 50])\n"
          ]
        }
      ],
      "source": [
        "print(tweet_output_embeddings.size())\n",
        "print(output.size())"
      ]
    },
    {
      "cell_type": "code",
      "execution_count": 41,
      "metadata": {
        "id": "Ptrjh-tsZRXO"
      },
      "outputs": [],
      "source": [
        "batch_size = output.shape[1]\n",
        "src_len = output.shape[0]"
      ]
    },
    {
      "cell_type": "code",
      "execution_count": 42,
      "metadata": {
        "id": "hZMuBpkRZRXO"
      },
      "outputs": [],
      "source": [
        "key_a = nn.Linear(50, 50)\n",
        "q_a = nn.Linear(50, 50)"
      ]
    },
    {
      "cell_type": "code",
      "execution_count": 43,
      "metadata": {
        "id": "m_xaxuZ7ZRXO"
      },
      "outputs": [],
      "source": [
        "output_keys = key_a(output)\n",
        "tweet_output_embeddings = q_a(tweet_output_embeddings)"
      ]
    },
    {
      "cell_type": "markdown",
      "metadata": {
        "id": "kb8OJOpoZRXO"
      },
      "source": [
        "Calculate importances between sequence-level representation and token representations."
      ]
    },
    {
      "cell_type": "code",
      "execution_count": 44,
      "metadata": {
        "colab": {
          "base_uri": "https://localhost:8080/"
        },
        "id": "rGW-olMEZRXO",
        "outputId": "5185e04a-ab13-42bf-a149-1008d66a0175"
      },
      "outputs": [
        {
          "output_type": "stream",
          "name": "stdout",
          "text": [
            "torch.Size([23, 4])\n"
          ]
        }
      ],
      "source": [
        "attn_weights = torch.bmm(output_keys.permute(1,0,2), tweet_output_embeddings.unsqueeze(2)).squeeze(2).permute(1,0)\n",
        "print(attn_weights.shape)"
      ]
    },
    {
      "cell_type": "markdown",
      "metadata": {
        "id": "CtzBmX9aZRXP"
      },
      "source": [
        "Ignore \"PAD\" tokens."
      ]
    },
    {
      "cell_type": "code",
      "execution_count": 45,
      "metadata": {
        "id": "PDX2O5zZZRXP"
      },
      "outputs": [],
      "source": [
        "attn_weights = attn_weights.masked_fill(tweets == TEXT.vocab.stoi[TEXT.pad_token], -1e9)"
      ]
    },
    {
      "cell_type": "code",
      "execution_count": 46,
      "metadata": {
        "id": "ukiUDAWuZRXP"
      },
      "outputs": [],
      "source": [
        "soft_attn_weights = F.softmax(attn_weights, 0).permute(1,0)"
      ]
    },
    {
      "cell_type": "code",
      "execution_count": 47,
      "metadata": {
        "colab": {
          "base_uri": "https://localhost:8080/"
        },
        "id": "tVO8HVmHZRXP",
        "outputId": "af0f6e7f-11e2-4e80-b185-e9d520615e14"
      },
      "outputs": [
        {
          "output_type": "execute_result",
          "data": {
            "text/plain": [
              "torch.Size([4, 23])"
            ]
          },
          "metadata": {},
          "execution_count": 47
        }
      ],
      "source": [
        "soft_attn_weights.shape"
      ]
    },
    {
      "cell_type": "code",
      "execution_count": 48,
      "metadata": {
        "id": "WbyFq4JtZRXP"
      },
      "outputs": [],
      "source": [
        "new_tweet_output_embedding = torch.bmm(output.permute(1, 2, 0), soft_attn_weights.unsqueeze(2)).squeeze(2)"
      ]
    },
    {
      "cell_type": "code",
      "execution_count": 49,
      "metadata": {
        "colab": {
          "base_uri": "https://localhost:8080/"
        },
        "id": "yaqVn6OyZRXP",
        "outputId": "190cd065-8900-48de-aa46-a8b182926c75"
      },
      "outputs": [
        {
          "output_type": "stream",
          "name": "stdout",
          "text": [
            "torch.Size([4, 50])\n"
          ]
        }
      ],
      "source": [
        "print(new_tweet_output_embedding.shape)"
      ]
    },
    {
      "cell_type": "markdown",
      "metadata": {
        "id": "QMIYFLRjZRXP"
      },
      "source": [
        "## Multilayered RNN\n",
        "\n",
        "For some applications, we may need more than one hidden layer for RNN to model the information flow. Adding more layers requires fews changes.\n",
        "\n",
        "Firstly, we change the ``num_layers`` argument to reflect the number of layers we want during the RNN module definition."
      ]
    },
    {
      "cell_type": "code",
      "execution_count": 50,
      "metadata": {
        "id": "BCO71GZcZRXQ"
      },
      "outputs": [],
      "source": [
        "\"\"\"\n",
        "define the RNN module\n",
        "\"\"\"\n",
        "# first input - number of dimesnions for word vectors for a vector x (300, size of the word embedding)\n",
        "# second input - number of nodes in hidden layer (50, size of the hidden layer)\n",
        "# third input - number of recurrent layers (we set it to 1)\n",
        "rnn = nn.RNN(input_size=300, hidden_size=50, num_layers=2) # input_size, hidden_size, num_layers"
      ]
    },
    {
      "cell_type": "markdown",
      "metadata": {
        "id": "RLzAFJ4wZRXQ"
      },
      "source": [
        "Similar to single layered RNN, Multilayered RNN module takes two inputs: the ``initial hidden state h0`` for each element in the batch (at ``time step t=0``) and the ``input features`` (``tweet_input_embeddings`` in our case).\n",
        "\n",
        "Let us construct the new initial hidden state for a 2 layered RNN."
      ]
    },
    {
      "cell_type": "code",
      "execution_count": 51,
      "metadata": {
        "colab": {
          "base_uri": "https://localhost:8080/"
        },
        "id": "SjIrdWbWZRXQ",
        "outputId": "d13b2e56-5f2f-40be-cbaa-c9da52927e37"
      },
      "outputs": [
        {
          "output_type": "stream",
          "name": "stdout",
          "text": [
            "The shape as as expected:  torch.Size([2, 4, 50])\n"
          ]
        }
      ],
      "source": [
        "\"\"\"\n",
        "hidden layer at time-step 0 (h_0)\n",
        "\"\"\"\n",
        "# first dimension - number of RNN layers (2)\n",
        "# second dimension - number of examples/sentences in a batch (4)\n",
        "# third dimension - number of nodes in hidden layer (50, size of the hidden layer)\n",
        "h0 = torch.randn(2, 4, 50)\n",
        "print(\"The shape as as expected: \", h0.shape)"
      ]
    },
    {
      "cell_type": "markdown",
      "metadata": {
        "id": "mvB9RJaZZRXQ"
      },
      "source": [
        "Let us feed both the hidden representation constructed above and tweet embeddings to our RNN model."
      ]
    },
    {
      "cell_type": "code",
      "execution_count": 52,
      "metadata": {
        "colab": {
          "base_uri": "https://localhost:8080/"
        },
        "id": "Qkh2r72uZRXQ",
        "outputId": "f99a13d4-2167-46ff-fa92-295d465b944f"
      },
      "outputs": [
        {
          "output_type": "stream",
          "name": "stdout",
          "text": [
            "torch.Size([23, 4, 300])\n"
          ]
        }
      ],
      "source": [
        "\"\"\"\n",
        "forward propagation over the RNN model\n",
        "\"\"\"\n",
        "print(tweet_input_embeddings.shape)\n",
        "output, hn = rnn(tweet_input_embeddings, h0) # h0 is optional input, defaults to tensor of 0's when not provided"
      ]
    },
    {
      "cell_type": "markdown",
      "metadata": {
        "id": "m09mO22XZRXQ"
      },
      "source": [
        "``output`` tensor contains the output features $h_t$ from the last layer of the RNN"
      ]
    },
    {
      "cell_type": "code",
      "execution_count": 53,
      "metadata": {
        "colab": {
          "base_uri": "https://localhost:8080/"
        },
        "id": "axdkLm5gZRXQ",
        "outputId": "4b3d4684-b83b-491c-cd35-19e899314278"
      },
      "outputs": [
        {
          "output_type": "stream",
          "name": "stdout",
          "text": [
            "output size:  torch.Size([23, 4, 50])\n"
          ]
        }
      ],
      "source": [
        "# output = seq_len, batch, hidden_size (output features from last layer of RNN)\n",
        "print(\"output size: \", output.size())"
      ]
    },
    {
      "cell_type": "markdown",
      "metadata": {
        "id": "oUG8E_MXZRXQ"
      },
      "source": [
        "``hn`` is a tensor of shape (num_layers, batch_size, hidden_size / number of nodes in a hidden layer) containing the hidden state for last time step ``t = max_seq_len`` for the ``2 layered RNN``."
      ]
    },
    {
      "cell_type": "code",
      "execution_count": 54,
      "metadata": {
        "colab": {
          "base_uri": "https://localhost:8080/"
        },
        "id": "bWmJCaVaZRXR",
        "outputId": "d91cf1fb-d9f7-4ef5-fc04-bcdc75c03589"
      },
      "outputs": [
        {
          "output_type": "stream",
          "name": "stdout",
          "text": [
            "last hidden state size:  torch.Size([2, 4, 50])\n"
          ]
        }
      ],
      "source": [
        "# h_n = num_layers, batch, hidden_size (hidden state for t=seq_len or hidden state at last timestep)\n",
        "print(\"last hidden state size: \", hn.size())"
      ]
    },
    {
      "cell_type": "markdown",
      "metadata": {
        "id": "4gElDcW6ZRXR"
      },
      "source": [
        "You can get the last hidden from the last layer by:"
      ]
    },
    {
      "cell_type": "code",
      "execution_count": 55,
      "metadata": {
        "colab": {
          "base_uri": "https://localhost:8080/"
        },
        "id": "vbOGo2jPZRXR",
        "outputId": "efce21af-3438-43db-c83f-e7d931a83400"
      },
      "outputs": [
        {
          "output_type": "execute_result",
          "data": {
            "text/plain": [
              "tensor([[-0.4609,  0.3026,  0.2641, -0.2038,  0.6981, -0.1892,  0.4541,  0.5510,\n",
              "          0.1726,  0.4292, -0.1855,  0.4309, -0.3680,  0.2882, -0.1988, -0.3617,\n",
              "          0.2215, -0.6583, -0.1237,  0.3361,  0.1835,  0.0457,  0.2665, -0.1904,\n",
              "         -0.0842,  0.0119,  0.5735,  0.2388,  0.7321,  0.5106, -0.6631,  0.2452,\n",
              "         -0.3746, -0.0380,  0.8005, -0.0560,  0.4838,  0.8953, -0.5734,  0.3495,\n",
              "          0.1620, -0.3643,  0.2641,  0.2496, -0.0880, -0.0731,  0.1830,  0.3835,\n",
              "         -0.0411,  0.2081],\n",
              "        [-0.3909,  0.3494,  0.2621, -0.2780,  0.7007, -0.2066,  0.4437,  0.5643,\n",
              "          0.1590,  0.3533, -0.2263,  0.5208, -0.3536,  0.2857, -0.2617, -0.3738,\n",
              "          0.2257, -0.6035, -0.0378,  0.3432,  0.1887,  0.0014,  0.3051, -0.2207,\n",
              "         -0.1585, -0.0614,  0.5037,  0.1902,  0.7197,  0.5308, -0.6304,  0.2652,\n",
              "         -0.3929,  0.0589,  0.8050, -0.0964,  0.5578,  0.9040, -0.6622,  0.3108,\n",
              "          0.1165, -0.3817,  0.2763,  0.1697, -0.0720, -0.1678,  0.1378,  0.3047,\n",
              "         -0.0530,  0.2233],\n",
              "        [ 0.5213, -0.6910, -0.0402,  0.2040, -0.0101,  0.2150, -0.4790, -0.3416,\n",
              "          0.3339, -0.1814,  0.0465, -0.2303,  0.1799,  0.3206,  0.5565, -0.2286,\n",
              "          0.5332, -0.0834, -0.1428,  0.6492, -0.4199, -0.5064, -0.0248, -0.7120,\n",
              "         -0.3792, -0.3735, -0.8301, -0.3453, -0.0222,  0.3961,  0.0026, -0.2934,\n",
              "         -0.0255, -0.6125, -0.4484, -0.9032, -0.0981,  0.4678,  0.2759,  0.4373,\n",
              "         -0.5000, -0.0657,  0.6490,  0.0134, -0.2054, -0.5440,  0.0771,  0.4385,\n",
              "          0.5888,  0.1477],\n",
              "        [-0.4019,  0.3556,  0.3020, -0.2122,  0.7086, -0.2133,  0.4421,  0.5641,\n",
              "          0.1569,  0.4170, -0.2086,  0.4871, -0.3326,  0.2660, -0.2476, -0.3631,\n",
              "          0.2831, -0.6214, -0.0891,  0.3614,  0.2021, -0.0266,  0.2783, -0.2239,\n",
              "         -0.1122, -0.0049,  0.5765,  0.1874,  0.7344,  0.5004, -0.6201,  0.2345,\n",
              "         -0.3962,  0.0208,  0.8115, -0.0529,  0.5401,  0.8943, -0.6693,  0.3599,\n",
              "          0.1351, -0.4345,  0.2554,  0.1963, -0.0722, -0.1623,  0.1709,  0.3534,\n",
              "         -0.0642,  0.2545]], grad_fn=<SliceBackward0>)"
            ]
          },
          "metadata": {},
          "execution_count": 55
        }
      ],
      "source": [
        "hn[-1, :, :]"
      ]
    },
    {
      "cell_type": "markdown",
      "metadata": {
        "id": "rbtBPKMOZRXR"
      },
      "source": [
        "Let us compute the final tweet representation:"
      ]
    },
    {
      "cell_type": "code",
      "execution_count": 56,
      "metadata": {
        "colab": {
          "base_uri": "https://localhost:8080/"
        },
        "id": "FDFWVcWDZRXR",
        "outputId": "7fa5d74f-87f5-43b1-b85e-bf797c011717"
      },
      "outputs": [
        {
          "output_type": "stream",
          "name": "stdout",
          "text": [
            "tweet output embeddings size:  torch.Size([4, 50])\n"
          ]
        }
      ],
      "source": [
        "tweet_output_embeddings = output[-1,:,:] # -1 fetches the embeddings from the last timestep\n",
        "print(\"tweet output embeddings size: \", tweet_output_embeddings.size())\n",
        "# first dimension - number of tweets in the batch (4)\n",
        "# second dimension - number of features in hidden state h_t (50, size of the hidden layer)"
      ]
    },
    {
      "cell_type": "code",
      "execution_count": 57,
      "metadata": {
        "colab": {
          "base_uri": "https://localhost:8080/"
        },
        "id": "DlOl9HzbZRXR",
        "outputId": "9c1a9347-db02-4e47-a056-2804cffd5c97"
      },
      "outputs": [
        {
          "output_type": "execute_result",
          "data": {
            "text/plain": [
              "tensor([[-0.4609,  0.3026,  0.2641, -0.2038,  0.6981, -0.1892,  0.4541,  0.5510,\n",
              "          0.1726,  0.4292, -0.1855,  0.4309, -0.3680,  0.2882, -0.1988, -0.3617,\n",
              "          0.2215, -0.6583, -0.1237,  0.3361,  0.1835,  0.0457,  0.2665, -0.1904,\n",
              "         -0.0842,  0.0119,  0.5735,  0.2388,  0.7321,  0.5106, -0.6631,  0.2452,\n",
              "         -0.3746, -0.0380,  0.8005, -0.0560,  0.4838,  0.8953, -0.5734,  0.3495,\n",
              "          0.1620, -0.3643,  0.2641,  0.2496, -0.0880, -0.0731,  0.1830,  0.3835,\n",
              "         -0.0411,  0.2081],\n",
              "        [-0.3909,  0.3494,  0.2621, -0.2780,  0.7007, -0.2066,  0.4437,  0.5643,\n",
              "          0.1590,  0.3533, -0.2263,  0.5208, -0.3536,  0.2857, -0.2617, -0.3738,\n",
              "          0.2257, -0.6035, -0.0378,  0.3432,  0.1887,  0.0014,  0.3051, -0.2207,\n",
              "         -0.1585, -0.0614,  0.5037,  0.1902,  0.7197,  0.5308, -0.6304,  0.2652,\n",
              "         -0.3929,  0.0589,  0.8050, -0.0964,  0.5578,  0.9040, -0.6622,  0.3108,\n",
              "          0.1165, -0.3817,  0.2763,  0.1697, -0.0720, -0.1678,  0.1378,  0.3047,\n",
              "         -0.0530,  0.2233],\n",
              "        [ 0.5213, -0.6910, -0.0402,  0.2040, -0.0101,  0.2150, -0.4790, -0.3416,\n",
              "          0.3339, -0.1814,  0.0465, -0.2303,  0.1799,  0.3206,  0.5565, -0.2286,\n",
              "          0.5332, -0.0834, -0.1428,  0.6492, -0.4199, -0.5064, -0.0248, -0.7120,\n",
              "         -0.3792, -0.3735, -0.8301, -0.3453, -0.0222,  0.3961,  0.0026, -0.2934,\n",
              "         -0.0255, -0.6125, -0.4484, -0.9032, -0.0981,  0.4678,  0.2759,  0.4373,\n",
              "         -0.5000, -0.0657,  0.6490,  0.0134, -0.2054, -0.5440,  0.0771,  0.4385,\n",
              "          0.5888,  0.1477],\n",
              "        [-0.4019,  0.3556,  0.3020, -0.2122,  0.7086, -0.2133,  0.4421,  0.5641,\n",
              "          0.1569,  0.4170, -0.2086,  0.4871, -0.3326,  0.2660, -0.2476, -0.3631,\n",
              "          0.2831, -0.6214, -0.0891,  0.3614,  0.2021, -0.0266,  0.2783, -0.2239,\n",
              "         -0.1122, -0.0049,  0.5765,  0.1874,  0.7344,  0.5004, -0.6201,  0.2345,\n",
              "         -0.3962,  0.0208,  0.8115, -0.0529,  0.5401,  0.8943, -0.6693,  0.3599,\n",
              "          0.1351, -0.4345,  0.2554,  0.1963, -0.0722, -0.1623,  0.1709,  0.3534,\n",
              "         -0.0642,  0.2545]], grad_fn=<SliceBackward0>)"
            ]
          },
          "metadata": {},
          "execution_count": 57
        }
      ],
      "source": [
        "tweet_output_embeddings"
      ]
    },
    {
      "cell_type": "markdown",
      "metadata": {
        "id": "8cUD-NadZRXR"
      },
      "source": [
        "#### Update END"
      ]
    },
    {
      "cell_type": "markdown",
      "metadata": {
        "id": "b1xckiqbZRXS"
      },
      "source": [
        "## RNN for Sentiment Analysis\n",
        "\n",
        "In this section we will implement RNN for classifying the sentiment of the tweet (same task used in our previous feedforward neural networks tutorial).\n",
        "\n",
        "We will pick up most of the functions from our feedforward neural networks code:"
      ]
    },
    {
      "cell_type": "code",
      "execution_count": 58,
      "metadata": {
        "colab": {
          "base_uri": "https://localhost:8080/"
        },
        "id": "XpHZxwroZRXS",
        "outputId": "86d5931b-cd7c-4047-bd36-9be626cfb51e"
      },
      "outputs": [
        {
          "output_type": "stream",
          "name": "stderr",
          "text": [
            "/usr/local/lib/python3.8/dist-packages/torch/cuda/__init__.py:497: UserWarning: Can't initialize NVML\n",
            "  warnings.warn(\"Can't initialize NVML\")\n"
          ]
        }
      ],
      "source": [
        "# all the necessary imports\n",
        "import torch\n",
        "from torch.utils.data import Dataset, DataLoader\n",
        "import torch.nn as nn\n",
        "from torch import optim\n",
        "\n",
        "# set the seed\n",
        "manual_seed = 123\n",
        "torch.manual_seed(manual_seed)\n",
        "device = torch.device(\"cuda\" if torch.cuda.is_available() else \"cpu\")\n",
        "n_gpu = torch.cuda.device_count()\n",
        "if n_gpu > 0:\n",
        "    torch.cuda.manual_seed(manual_seed)\n",
        "\n",
        "# hyperparameters\n",
        "MAX_EPOCHS = 5\n",
        "LEARNING_RATE = 0.3\n",
        "NUM_CLASSES = 3\n",
        "EMBEDDING_SIZE = 300"
      ]
    },
    {
      "cell_type": "markdown",
      "metadata": {
        "id": "n9y2HO6rZRXS"
      },
      "source": [
        "Now we can define the full RNN model:"
      ]
    },
    {
      "cell_type": "code",
      "execution_count": 59,
      "metadata": {
        "id": "sDuaMC3yZRXS"
      },
      "outputs": [],
      "source": [
        "\"\"\"\n",
        "create a model for RNN\n",
        "\"\"\"\n",
        "class RNNmodel(nn.Module):\n",
        "  \n",
        "  def __init__(self, embedding_size, vocab_size, output_size, hidden_size, num_layers, pad_token):\n",
        "    # In the constructor we define the layers for our model\n",
        "    super(RNNmodel, self).__init__()\n",
        "    self.pad_token = pad_token\n",
        "    # word embedding lookup table\n",
        "    self.embedding = nn.Embedding(num_embeddings=vocab_size, embedding_dim=embedding_size, sparse=True)\n",
        "    # core RNN module\n",
        "    self.rnn_layer = nn.RNN(input_size=embedding_size, hidden_size=hidden_size, num_layers=num_layers) \n",
        "    \n",
        "    ## attention layer\n",
        "    self.key_a = nn.Linear(hidden_size, hidden_size)\n",
        "    self.q_a = nn.Linear(hidden_size, hidden_size)\n",
        "    \n",
        "    # activation function\n",
        "    self.activation_fn = nn.ReLU()\n",
        "    # classification related modules\n",
        "    self.linear_layer = nn.Linear(hidden_size, output_size) \n",
        "    self.softmax_layer = nn.LogSoftmax(dim=0)\n",
        "  \n",
        "  def forward(self, x):\n",
        "    # In the forward function we define the forward propagation logic\n",
        "    out = self.embedding(x)\n",
        "    out, _ = self.rnn_layer(out) # since we are not feeding h_0 explicitly, h_0 will be initialized to zeros by default\n",
        "    # classify based on the hidden representation after RNN processes the last token\n",
        "    sequence_rep = out[-1]\n",
        "    \n",
        "    # self-attention mechanism\n",
        "    output_keys = self.key_a(out)\n",
        "    sequence_rep = self.q_a(sequence_rep)\n",
        "    \n",
        "    attn_weights = torch.bmm(output_keys.permute(1,0,2), sequence_rep.unsqueeze(2)).squeeze(2).permute(1,0)\n",
        "    attn_weights = attn_weights.masked_fill(x == self.pad_token, -1e9)\n",
        "    \n",
        "    soft_attn_weights = F.softmax(attn_weights, 0).permute(1,0)\n",
        "    \n",
        "    new_output_embedding = torch.bmm(out.permute(1, 2, 0), soft_attn_weights.unsqueeze(2)).squeeze(2)\n",
        "    ##### end attention\n",
        "    \n",
        "    out = self.activation_fn(sequence_rep)\n",
        "    out = self.linear_layer(out)\n",
        "    out = self.softmax_layer(out) # accepts 2D or more dimensional inputs\n",
        "    return out"
      ]
    },
    {
      "cell_type": "markdown",
      "metadata": {
        "id": "cyuvcN98ZRXS"
      },
      "source": [
        "Some additional hyperparameters for RNN"
      ]
    },
    {
      "cell_type": "code",
      "execution_count": 60,
      "metadata": {
        "id": "FgUyzVIFZRXS"
      },
      "outputs": [],
      "source": [
        "# hyperparameters of RNN\n",
        "HIDDEN_SIZE = 50\n",
        "NUM_LAYERS = 2"
      ]
    },
    {
      "cell_type": "markdown",
      "metadata": {
        "id": "ijVa0mLmZRXT"
      },
      "source": [
        "### Training and Testing Functions."
      ]
    },
    {
      "cell_type": "code",
      "execution_count": 61,
      "metadata": {
        "id": "KFkwUY64ZRXT"
      },
      "outputs": [],
      "source": [
        "from sklearn.metrics import accuracy_score\n",
        "def train(loader):\n",
        "    total_loss = 0.0\n",
        "    # iterate throught the data loader\n",
        "    num_sample = 0\n",
        "    for batch in loader:\n",
        "        # load the current batch\n",
        "        batch_input = batch.tweet\n",
        "        batch_output = batch.label\n",
        "        \n",
        "        batch_input = batch_input.to(device)\n",
        "        batch_output = batch_output.to(device)\n",
        "        # forward propagation\n",
        "        # pass the data through the model\n",
        "        model_outputs = model(batch_input)\n",
        "        # compute the loss\n",
        "        cur_loss = criterion(model_outputs, batch_output)\n",
        "        total_loss += cur_loss.item()\n",
        "\n",
        "        # backward propagation (compute the gradients and update the model)\n",
        "        # clear the buffer\n",
        "        optimizer.zero_grad()\n",
        "        # compute the gradients\n",
        "        cur_loss.backward()\n",
        "        # update the weights\n",
        "        optimizer.step()\n",
        "\n",
        "        num_sample += batch_output.shape[0]\n",
        "    return total_loss/num_sample\n",
        "\n",
        "# evaluation logic based on classification accuracy\n",
        "def evaluate(loader):\n",
        "    all_pred=[]\n",
        "    all_label = []\n",
        "    with torch.no_grad(): # impacts the autograd engine and deactivate it. reduces memory usage and speeds up computation\n",
        "        for batch in loader:\n",
        "             # load the current batch\n",
        "            batch_input = batch.tweet\n",
        "            batch_output = batch.label\n",
        "\n",
        "            batch_input = batch_input.to(device)\n",
        "            # forward propagation\n",
        "            # pass the data through the model\n",
        "            model_outputs = model(batch_input)\n",
        "            # identify the predicted class for each example in the batch\n",
        "            probabilities, predicted = torch.max(model_outputs.cpu().data, 1)\n",
        "            # put all the true labels and predictions to two lists\n",
        "            all_pred.extend(predicted)\n",
        "            all_label.extend(batch_output)\n",
        "            \n",
        "    accuracy = accuracy_score(all_label, all_pred)\n",
        "    return accuracy"
      ]
    },
    {
      "cell_type": "markdown",
      "metadata": {
        "id": "pWnKJ9hcZRXT"
      },
      "source": [
        "Let us define the RNN model."
      ]
    },
    {
      "cell_type": "code",
      "execution_count": 62,
      "metadata": {
        "id": "riyCVnT7ZRXT"
      },
      "outputs": [],
      "source": [
        "# define the model\n",
        "model = RNNmodel(EMBEDDING_SIZE, VOCAB_SIZE, NUM_CLASSES, HIDDEN_SIZE, NUM_LAYERS, TEXT.vocab.stoi[TEXT.pad_token]) \n",
        "model.to(device)\n",
        "# define the loss function (last node of the graph)\n",
        "criterion = nn.NLLLoss()"
      ]
    },
    {
      "cell_type": "markdown",
      "metadata": {
        "id": "_YpHcPaDZRXT"
      },
      "source": [
        "**We need to create a new directory 'ckpt/' to store our model checkpoint.**"
      ]
    },
    {
      "cell_type": "code",
      "execution_count": 66,
      "metadata": {
        "id": "ScTlf-NwZRXT"
      },
      "outputs": [],
      "source": [
        "import os\n",
        "os.mkdir(\"./ckpt\")"
      ]
    },
    {
      "cell_type": "markdown",
      "metadata": {
        "id": "HPYTEDAzZRXT"
      },
      "source": [
        "**Let us perform the training. We will save our model and optimizer at end of each epoch.**\n",
        "\n",
        "\n",
        "You can find more information of saving and loading model [here](https://pytorch.org/tutorials/beginner/saving_loading_models.html)."
      ]
    },
    {
      "cell_type": "code",
      "execution_count": 67,
      "metadata": {
        "colab": {
          "base_uri": "https://localhost:8080/"
        },
        "id": "2KRtXssvZRXU",
        "outputId": "3d0c2fe0-dc00-48f2-d595-206f51d9d6aa"
      },
      "outputs": [
        {
          "output_type": "stream",
          "name": "stdout",
          "text": [
            "Epoch [1/5], Loss: 0.3466, Training Accuracy: 0.3300, Validation Accuracy: 0.3042\n",
            "Epoch [2/5], Loss: 0.3464, Training Accuracy: 0.4350, Validation Accuracy: 0.3652\n",
            "Epoch [3/5], Loss: 0.3462, Training Accuracy: 0.3768, Validation Accuracy: 0.4072\n",
            "Epoch [4/5], Loss: 0.3456, Training Accuracy: 0.5047, Validation Accuracy: 0.4237\n",
            "Epoch [5/5], Loss: 0.3458, Training Accuracy: 0.3950, Validation Accuracy: 0.3472\n"
          ]
        }
      ],
      "source": [
        "# create an instance of SGD with required hyperparameters\n",
        "optimizer = torch.optim.SGD(model.parameters(), lr=LEARNING_RATE)\n",
        "\n",
        "# start the training\n",
        "for epoch in range(MAX_EPOCHS):\n",
        "    # train the model for one pass over the data\n",
        "    train_loss = train(train_iter)  \n",
        "    # compute the training accuracy\n",
        "    train_acc = evaluate(train_iter)\n",
        "    # compute the validation accuracy\n",
        "    val_acc = evaluate(val_iter)\n",
        "    \n",
        "    # print the loss for every epoch\n",
        "    print('Epoch [{}/{}], Loss: {:.4f}, Training Accuracy: {:.4f}, Validation Accuracy: {:.4f}'.format(epoch+1, MAX_EPOCHS, train_loss, train_acc, val_acc))\n",
        "    \n",
        "    # save model, optimizer, and number of epoch to a dictionary\n",
        "    model_save = {\n",
        "            'epoch': epoch,  # number of epoch\n",
        "            'model_state_dict': model.state_dict(), # model parameters \n",
        "            'optimizer_state_dict': optimizer.state_dict(), # save optimizer \n",
        "            'loss': train_loss # training loss\n",
        "            }\n",
        "    \n",
        "    # use torch.save to store \n",
        "    torch.save(model_save, \"./ckpt/model_{}.pt\".format(epoch))"
      ]
    },
    {
      "cell_type": "markdown",
      "metadata": {
        "id": "RqdkG87HZRXU"
      },
      "source": [
        "**Load model checkpoint** \n",
        "\n",
        "When we have a trained model checkpint, we can load it using `torch.load()`"
      ]
    },
    {
      "cell_type": "code",
      "execution_count": 68,
      "metadata": {
        "colab": {
          "base_uri": "https://localhost:8080/"
        },
        "id": "p_3tHWOEZRXU",
        "outputId": "1043d8de-182f-4497-861b-ed00d334bdab"
      },
      "outputs": [
        {
          "output_type": "stream",
          "name": "stdout",
          "text": [
            "RNNmodel(\n",
            "  (embedding): Embedding(3343, 300, sparse=True)\n",
            "  (rnn_layer): RNN(300, 50, num_layers=2)\n",
            "  (key_a): Linear(in_features=50, out_features=50, bias=True)\n",
            "  (q_a): Linear(in_features=50, out_features=50, bias=True)\n",
            "  (activation_fn): ReLU()\n",
            "  (linear_layer): Linear(in_features=50, out_features=3, bias=True)\n",
            "  (softmax_layer): LogSoftmax(dim=0)\n",
            ")\n"
          ]
        }
      ],
      "source": [
        "# define a new model\n",
        "model2 = RNNmodel(EMBEDDING_SIZE, VOCAB_SIZE, NUM_CLASSES, HIDDEN_SIZE, NUM_LAYERS, TEXT.vocab.stoi[TEXT.pad_token]) \n",
        "# load checkpoint \n",
        "checkpoint = torch.load(\"./ckpt/model_1.pt\")\n",
        "# assign the parameters of checkpoint to this new model\n",
        "model2.load_state_dict(checkpoint['model_state_dict'])\n",
        "model2.to(device)\n",
        "\n",
        "print(model2)"
      ]
    },
    {
      "cell_type": "markdown",
      "metadata": {
        "id": "j4tnutkSZRXU"
      },
      "source": [
        "## GRUs\n",
        "\n",
        "Gated Recurrent Units (GRUs) are a variant of RNNs that use more complex units for activation. They are created to have more persistent memory thereby making them easier for RNNs to capture long-term dependencies. To learn the theory behind GRUs, we recommend: https://github.com/UBC-NLP/dlnlp2019/blob/master/slides/RNN.pdf \n",
        "\n",
        "GRU is defined by ``torch.nn.GRU`` module and its documentation can be fetched [here](https://pytorch.org/docs/stable/nn.html#torch.nn.GRU). Now let us define the GRU module."
      ]
    },
    {
      "cell_type": "code",
      "execution_count": 69,
      "metadata": {
        "id": "JU3EeOKiZRXU"
      },
      "outputs": [],
      "source": [
        "\"\"\"\n",
        "define the GRU module\n",
        "\"\"\"\n",
        "# first input - number of word vector dimensions/embeddings\n",
        "# second input - number of nodes in hidden layer (50, size of the hidden layer)\n",
        "# third input - number of recurrent layers (2)\n",
        "gru_rnn = nn.GRU(input_size=300, hidden_size=50, num_layers=2) # input_size, hidden_size, num_layers"
      ]
    },
    {
      "cell_type": "markdown",
      "metadata": {
        "id": "oDIAlOAGZRXU"
      },
      "source": [
        "Similar to RNN, GRU module takes two inputs: *the initial hidden state for each element in the batch* (t=0) and the *input features* (``tweet_input_embeddings`` in our case).\n",
        "\n",
        "Let us feed both the initial hidden state and tweet embeddings to our GRU model."
      ]
    },
    {
      "cell_type": "code",
      "execution_count": 70,
      "metadata": {
        "id": "G1EKfSrtZRXU"
      },
      "outputs": [],
      "source": [
        "\"\"\"\n",
        "forward propagation over the GRU model\n",
        "\"\"\"\n",
        "output, hn = gru_rnn(tweet_input_embeddings, h0) # h0 is optional input, defaults to tensor of 0's when not provided"
      ]
    },
    {
      "cell_type": "markdown",
      "metadata": {
        "id": "_D_iNYOiZRXV"
      },
      "source": [
        "``output`` tensor contqains the output features $h_t$ from the last layer of the GRU"
      ]
    },
    {
      "cell_type": "code",
      "execution_count": 65,
      "metadata": {
        "colab": {
          "base_uri": "https://localhost:8080/"
        },
        "id": "_8WuGfF7ZRXV",
        "outputId": "cab5f4f6-6835-4cf6-f977-2ce9a78150af"
      },
      "outputs": [
        {
          "output_type": "stream",
          "name": "stdout",
          "text": [
            "output size:  torch.Size([23, 4, 50])\n"
          ]
        }
      ],
      "source": [
        "# output = seq_len, batch, hidden_size (output features from last layer of GRU)\n",
        "print(\"output size: \", output.size())"
      ]
    },
    {
      "cell_type": "markdown",
      "metadata": {
        "id": "cjW4msz4ZRXV"
      },
      "source": [
        "``hn`` is a tensor of shape (num_layers, batch_size, hidden_size / number of nodes in a hidden layer) containing the hidden state for last time step ``t = max_seq_len`` for the ``2 layered RNN``."
      ]
    },
    {
      "cell_type": "code",
      "execution_count": 71,
      "metadata": {
        "colab": {
          "base_uri": "https://localhost:8080/"
        },
        "id": "FRz0JYCeZRXV",
        "outputId": "da4cc8ac-76ca-45e5-8e6d-85860c6def75"
      },
      "outputs": [
        {
          "output_type": "stream",
          "name": "stdout",
          "text": [
            "last hidden state size:  torch.Size([2, 4, 50])\n"
          ]
        }
      ],
      "source": [
        "# h_n = num_layers, batch, hidden_size (hidden state for t=seq_len or hidden state at last timestep)\n",
        "print(\"last hidden state size: \", hn.size())"
      ]
    },
    {
      "cell_type": "markdown",
      "metadata": {
        "id": "3rbSnQf7ZRXV"
      },
      "source": [
        "Similar to RNN, you can compute the final tweet representation (representation from last hidden state for each tweet) as follows."
      ]
    },
    {
      "cell_type": "code",
      "execution_count": 72,
      "metadata": {
        "colab": {
          "base_uri": "https://localhost:8080/"
        },
        "id": "E-IWiKf7ZRXV",
        "outputId": "657b5379-1f9b-4f6c-a3d2-62f87a812ed4"
      },
      "outputs": [
        {
          "output_type": "stream",
          "name": "stdout",
          "text": [
            "tweet output embeddings size:  torch.Size([4, 50])\n"
          ]
        }
      ],
      "source": [
        "tweet_output_embeddings = output[-1,:,:] # -1 fetches the embeddings from the last timestep\n",
        "print(\"tweet output embeddings size: \", tweet_output_embeddings.size())\n",
        "# first dimension - number of tweets in the batch (5)\n",
        "# second dimension - number of features in hidden state h_t (20, size of the hidden layer)"
      ]
    },
    {
      "cell_type": "markdown",
      "metadata": {
        "id": "C3bR2pIsZRXV"
      },
      "source": [
        "## LSTMs\n",
        "\n",
        "Long short-term memory (LSTMs) are a variant of RNNs that use more complex units for activation. Similar to the spirit of GRU, they are created to have more persistent memory thereby making them easier for RNNs to capture long-term dependencies. To learn the theory behind GRUs, we recommend: https://github.com/UBC-NLP/dlnlp2019/blob/master/slides/RNN.pdf \n",
        "\n",
        "LSTM is defined by ``torch.nn.LSTM`` module and its documentation can be fetched [here](https://pytorch.org/docs/stable/nn.html#torch.nn.LSTM). Now let us define the LSTM module."
      ]
    },
    {
      "cell_type": "code",
      "execution_count": 73,
      "metadata": {
        "id": "vG_FQJqOZRXV"
      },
      "outputs": [],
      "source": [
        "\"\"\"\n",
        "define the LSTM module\n",
        "\"\"\"\n",
        "# first input - number of features in x (300, size of the word embedding)\n",
        "# second input - number of number of nodes in a hidden layer (50)\n",
        "# third input - number of recurrent layers (2)\n",
        "lstm_rnn = nn.LSTM(input_size=300, hidden_size=50, num_layers=2) # input_size, hidden_size, num_layers"
      ]
    },
    {
      "cell_type": "markdown",
      "metadata": {
        "id": "c_hvEZJeZRXW"
      },
      "source": [
        "Unlike RNN and GRU, LSTM module takes three inputs: the initial hidden state for each element in the batch (t=0), the input features (tweet_input_embeddings in our case) and initial cell state for each element in the batch.\n",
        "\n",
        "Let us construct the initial cell state (this construction is similar to that of initial hidden state)"
      ]
    },
    {
      "cell_type": "code",
      "execution_count": 74,
      "metadata": {
        "id": "9zbkCc7YZRXW"
      },
      "outputs": [],
      "source": [
        "\"\"\"\n",
        "cell state at time-step 0 (h_0)\n",
        "\"\"\"\n",
        "# first dimension - number of LSTM layers (2)\n",
        "# second dimension - batch_size (# of tweets/examples/sentences)\n",
        "# third dimension - hidden_size / number of nodes in a hidden layer (50)\n",
        "c0 = torch.randn(2, 4, 50)"
      ]
    },
    {
      "cell_type": "markdown",
      "metadata": {
        "id": "Yi4xN9L9ZRXW"
      },
      "source": [
        "Let us feed the initial hidden state, initial cell state and tweet embeddings to our LSTM model."
      ]
    },
    {
      "cell_type": "code",
      "execution_count": 75,
      "metadata": {
        "id": "i_rOjopdZRXW"
      },
      "outputs": [],
      "source": [
        "\"\"\"\n",
        "forward propagation over the LSTM model\n",
        "\"\"\"\n",
        "output, (hn, cn) = lstm_rnn(tweet_input_embeddings, None) # h0 and c0 is optional input, defaults to tensor of 0's when not provided"
      ]
    },
    {
      "cell_type": "markdown",
      "metadata": {
        "id": "SRLdY5HnZRXW"
      },
      "source": [
        "``output`` tensor contains the output features $h_t$ from the last layer of the LSTM"
      ]
    },
    {
      "cell_type": "code",
      "execution_count": 76,
      "metadata": {
        "colab": {
          "base_uri": "https://localhost:8080/"
        },
        "id": "sbwmMkr7ZRXW",
        "outputId": "3805e6b1-99b5-4d46-e045-f3d6d7b12930"
      },
      "outputs": [
        {
          "output_type": "stream",
          "name": "stdout",
          "text": [
            "output size:  torch.Size([23, 4, 50])\n"
          ]
        }
      ],
      "source": [
        "# output = seq_len, batch_size, hidden_size (output features from last layer of LSTM)\n",
        "print(\"output size: \", output.size())"
      ]
    },
    {
      "cell_type": "markdown",
      "metadata": {
        "id": "CouJQGwfZRXW"
      },
      "source": [
        "``hn`` is a tensor of shape (num_layers, batch, hidden_size) containing the hidden state for t = seq_len"
      ]
    },
    {
      "cell_type": "code",
      "execution_count": 77,
      "metadata": {
        "colab": {
          "base_uri": "https://localhost:8080/"
        },
        "id": "Twe-ATJFZRXX",
        "outputId": "010ab85f-49a9-44d7-b27a-b914e2cff787"
      },
      "outputs": [
        {
          "output_type": "stream",
          "name": "stdout",
          "text": [
            "last hidden state size:  torch.Size([2, 4, 50])\n"
          ]
        }
      ],
      "source": [
        "# h_n = num_layers, batch, hidden_size (hidden state for t=seq_len or hidden state at last timestep)\n",
        "print(\"last hidden state size: \", hn.size())"
      ]
    },
    {
      "cell_type": "markdown",
      "metadata": {
        "id": "khX4jcn6ZRXX"
      },
      "source": [
        "``cn`` is a tensor of shape (num_layers, batch, hidden_size) containing the cell state for t = seq_len."
      ]
    },
    {
      "cell_type": "code",
      "execution_count": 78,
      "metadata": {
        "colab": {
          "base_uri": "https://localhost:8080/"
        },
        "id": "u1PwbwHRZRXX",
        "outputId": "77a84fca-59c3-4b0e-c9c4-4c2daa15d476"
      },
      "outputs": [
        {
          "output_type": "stream",
          "name": "stdout",
          "text": [
            "last cell state size:  torch.Size([2, 4, 50])\n"
          ]
        }
      ],
      "source": [
        "# c_n = num_layers, batch_size, hidden_size (cell state for t=seq_len or cell state at last timestep)\n",
        "print(\"last cell state size: \", hn.size())"
      ]
    },
    {
      "cell_type": "markdown",
      "metadata": {
        "id": "JiA5IkkyZRXX"
      },
      "source": [
        "Similar to RNN and GRU, you can compute the final tweet representation (representation from last hidden state for each tweet) as follows."
      ]
    },
    {
      "cell_type": "code",
      "execution_count": 79,
      "metadata": {
        "colab": {
          "base_uri": "https://localhost:8080/"
        },
        "id": "tZSI-6efZRXX",
        "outputId": "22c877ca-384d-4244-96fa-039bc4759c6c"
      },
      "outputs": [
        {
          "output_type": "stream",
          "name": "stdout",
          "text": [
            "tweet output embeddings size:  torch.Size([4, 50])\n"
          ]
        }
      ],
      "source": [
        "tweet_output_embeddings = output[-1,:,:] # -1 fetches the embeddings from the last timestep\n",
        "print(\"tweet output embeddings size: \", tweet_output_embeddings.size())\n",
        "# first dimension - number of tweets in the batch (4)\n",
        "# second dimension - number of features in hidden state h_t (50, size of the hidden layer)"
      ]
    }
  ],
  "metadata": {
    "kernelspec": {
      "display_name": "Python 3",
      "language": "python",
      "name": "python3"
    },
    "language_info": {
      "codemirror_mode": {
        "name": "ipython",
        "version": 3
      },
      "file_extension": ".py",
      "mimetype": "text/x-python",
      "name": "python",
      "nbconvert_exporter": "python",
      "pygments_lexer": "ipython3",
      "version": "3.7.3"
    },
    "colab": {
      "provenance": [],
      "include_colab_link": true
    }
  },
  "nbformat": 4,
  "nbformat_minor": 0
}